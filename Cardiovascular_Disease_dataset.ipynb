{
  "nbformat": 4,
  "nbformat_minor": 0,
  "metadata": {
    "colab": {
      "provenance": []
    },
    "kernelspec": {
      "name": "python3",
      "display_name": "Python 3"
    },
    "language_info": {
      "name": "python"
    }
  },
  "cells": [
    {
      "cell_type": "markdown",
      "source": [
        "**ABOUT DATASET**"
      ],
      "metadata": {
        "id": "6giyl_fhZp-3"
      }
    },
    {
      "cell_type": "markdown",
      "source": [
        " Cardiovascular diseases (CVDs) are the number 1 cause of death globally, taking an estimated 17.9 million lives each year, which accounts for 31% of all deaths worlwide and this dataset contains 12 features that can be used to predict CVD.\n",
        "People with cardiovascular disease or who are at high cardiovascular risk need early detection and management wherein a machine learning model can be of great help."
      ],
      "metadata": {
        "id": "EY998n0-ZwgD"
      }
    },
    {
      "cell_type": "markdown",
      "source": [
        "**ATTRIBUTE INFORMATION**"
      ],
      "metadata": {
        "id": "JqgytkURcfle"
      }
    },
    {
      "cell_type": "markdown",
      "source": [
        "1. * Age | Objective Feature | age of the patient\n",
        "2. * Height | Objective Feature | height\n",
        "3. * Weight | Objective Feature | weight\n",
        "4. *  Gender | Objective Feature | gender of the patient\n",
        "5. * Systolic blood pressure | Examination Feature | ap_hi\n",
        "6. * Diastolic blood pressure | Examination Feature | ap_lo\n",
        "7. * Cholesterol | Examination Feature | cholesterol | 1: normal, 2: above normal, 3: well above normal\n",
        "8. * Glucose | Examination Feature | gluc | 1: normal, 2: above normal, 3: well above normal\n",
        "9. * Smoking | Subjective Feature | smoke\n",
        "10. * Alcohol intake | Subjective Feature | alco\n",
        "11. * Physical activity | Subjective Feature | active\n",
        "12. * Presence or absence of cardiovascular disease | cardio\n"
      ],
      "metadata": {
        "id": "IrzzaK68cvjs"
      }
    },
    {
      "cell_type": "markdown",
      "source": [
        "**IMPORTING THE DEPENDENCIES**"
      ],
      "metadata": {
        "id": "C4k7qVfoQWOe"
      }
    },
    {
      "cell_type": "code",
      "source": [
        "import numpy as np\n",
        "import pandas as pd\n",
        "import seaborn as sns\n",
        "import matplotlib.pyplot as plt\n",
        "from sklearn.model_selection import train_test_split\n",
        "from sklearn.preprocessing import StandardScaler\n",
        "from sklearn.neighbors import KNeighborsClassifier  \n",
        "from sklearn.naive_bayes import GaussianNB\n",
        "from sklearn.tree import DecisionTreeClassifier\n",
        "from sklearn.svm import SVC\n",
        "from sklearn.ensemble import RandomForestClassifier           \n",
        "from sklearn.linear_model import LogisticRegression\n",
        "from imblearn.over_sampling import SMOTE \n",
        "from sklearn.metrics import accuracy_score,classification_report,ConfusionMatrixDisplay"
      ],
      "metadata": {
        "id": "ZvuEdsWFQvYN"
      },
      "execution_count": null,
      "outputs": []
    },
    {
      "cell_type": "markdown",
      "source": [
        "**DATA COLLECTION AND PROCESSING**"
      ],
      "metadata": {
        "id": "P4HbTgkRPxgm"
      }
    },
    {
      "cell_type": "code",
      "source": [
        "# loading the csv data to a Pandas DataFrame\n",
        "df=pd.read_csv('/content/DOC-20230118-WA0039.csv')"
      ],
      "metadata": {
        "id": "0jbfqSpxIu1h"
      },
      "execution_count": null,
      "outputs": []
    },
    {
      "cell_type": "code",
      "source": [
        "# print first 5 rows of the Dataset\n",
        "df.head()"
      ],
      "metadata": {
        "colab": {
          "base_uri": "https://localhost:8080/",
          "height": 206
        },
        "id": "pmTfqwJ1RJ6a",
        "outputId": "d2a8ec55-ef2c-4008-82a8-842b93b4fb21"
      },
      "execution_count": null,
      "outputs": [
        {
          "output_type": "execute_result",
          "data": {
            "text/plain": [
              "   id        age  gender  height  weight  ap_hi  ap_lo  cholesterol  gluc  \\\n",
              "0   0  50.391781       2   168.0    62.0  110.0   80.0          1.0   1.0   \n",
              "1   1  55.419178       1   156.0    85.0  140.0   90.0          3.0   1.0   \n",
              "2   2  51.663014       1   165.0    64.0  130.0   70.0          3.0   1.0   \n",
              "3   3  48.282192       2   169.0    82.0  150.0  100.0          1.0   1.0   \n",
              "4   4  47.873973       1   156.0    56.0  100.0   60.0          1.0   1.0   \n",
              "\n",
              "   smoke  alco  active  cardio  \n",
              "0    0.0   0.0     1.0     0.0  \n",
              "1    0.0   0.0     1.0     1.0  \n",
              "2    0.0   0.0     0.0     1.0  \n",
              "3    0.0   0.0     1.0     1.0  \n",
              "4    0.0   0.0     0.0     0.0  "
            ],
            "text/html": [
              "\n",
              "  <div id=\"df-1b1d6ff9-6fae-4875-9d17-7d8e6defbc6e\">\n",
              "    <div class=\"colab-df-container\">\n",
              "      <div>\n",
              "<style scoped>\n",
              "    .dataframe tbody tr th:only-of-type {\n",
              "        vertical-align: middle;\n",
              "    }\n",
              "\n",
              "    .dataframe tbody tr th {\n",
              "        vertical-align: top;\n",
              "    }\n",
              "\n",
              "    .dataframe thead th {\n",
              "        text-align: right;\n",
              "    }\n",
              "</style>\n",
              "<table border=\"1\" class=\"dataframe\">\n",
              "  <thead>\n",
              "    <tr style=\"text-align: right;\">\n",
              "      <th></th>\n",
              "      <th>id</th>\n",
              "      <th>age</th>\n",
              "      <th>gender</th>\n",
              "      <th>height</th>\n",
              "      <th>weight</th>\n",
              "      <th>ap_hi</th>\n",
              "      <th>ap_lo</th>\n",
              "      <th>cholesterol</th>\n",
              "      <th>gluc</th>\n",
              "      <th>smoke</th>\n",
              "      <th>alco</th>\n",
              "      <th>active</th>\n",
              "      <th>cardio</th>\n",
              "    </tr>\n",
              "  </thead>\n",
              "  <tbody>\n",
              "    <tr>\n",
              "      <th>0</th>\n",
              "      <td>0</td>\n",
              "      <td>50.391781</td>\n",
              "      <td>2</td>\n",
              "      <td>168.0</td>\n",
              "      <td>62.0</td>\n",
              "      <td>110.0</td>\n",
              "      <td>80.0</td>\n",
              "      <td>1.0</td>\n",
              "      <td>1.0</td>\n",
              "      <td>0.0</td>\n",
              "      <td>0.0</td>\n",
              "      <td>1.0</td>\n",
              "      <td>0.0</td>\n",
              "    </tr>\n",
              "    <tr>\n",
              "      <th>1</th>\n",
              "      <td>1</td>\n",
              "      <td>55.419178</td>\n",
              "      <td>1</td>\n",
              "      <td>156.0</td>\n",
              "      <td>85.0</td>\n",
              "      <td>140.0</td>\n",
              "      <td>90.0</td>\n",
              "      <td>3.0</td>\n",
              "      <td>1.0</td>\n",
              "      <td>0.0</td>\n",
              "      <td>0.0</td>\n",
              "      <td>1.0</td>\n",
              "      <td>1.0</td>\n",
              "    </tr>\n",
              "    <tr>\n",
              "      <th>2</th>\n",
              "      <td>2</td>\n",
              "      <td>51.663014</td>\n",
              "      <td>1</td>\n",
              "      <td>165.0</td>\n",
              "      <td>64.0</td>\n",
              "      <td>130.0</td>\n",
              "      <td>70.0</td>\n",
              "      <td>3.0</td>\n",
              "      <td>1.0</td>\n",
              "      <td>0.0</td>\n",
              "      <td>0.0</td>\n",
              "      <td>0.0</td>\n",
              "      <td>1.0</td>\n",
              "    </tr>\n",
              "    <tr>\n",
              "      <th>3</th>\n",
              "      <td>3</td>\n",
              "      <td>48.282192</td>\n",
              "      <td>2</td>\n",
              "      <td>169.0</td>\n",
              "      <td>82.0</td>\n",
              "      <td>150.0</td>\n",
              "      <td>100.0</td>\n",
              "      <td>1.0</td>\n",
              "      <td>1.0</td>\n",
              "      <td>0.0</td>\n",
              "      <td>0.0</td>\n",
              "      <td>1.0</td>\n",
              "      <td>1.0</td>\n",
              "    </tr>\n",
              "    <tr>\n",
              "      <th>4</th>\n",
              "      <td>4</td>\n",
              "      <td>47.873973</td>\n",
              "      <td>1</td>\n",
              "      <td>156.0</td>\n",
              "      <td>56.0</td>\n",
              "      <td>100.0</td>\n",
              "      <td>60.0</td>\n",
              "      <td>1.0</td>\n",
              "      <td>1.0</td>\n",
              "      <td>0.0</td>\n",
              "      <td>0.0</td>\n",
              "      <td>0.0</td>\n",
              "      <td>0.0</td>\n",
              "    </tr>\n",
              "  </tbody>\n",
              "</table>\n",
              "</div>\n",
              "      <button class=\"colab-df-convert\" onclick=\"convertToInteractive('df-1b1d6ff9-6fae-4875-9d17-7d8e6defbc6e')\"\n",
              "              title=\"Convert this dataframe to an interactive table.\"\n",
              "              style=\"display:none;\">\n",
              "        \n",
              "  <svg xmlns=\"http://www.w3.org/2000/svg\" height=\"24px\"viewBox=\"0 0 24 24\"\n",
              "       width=\"24px\">\n",
              "    <path d=\"M0 0h24v24H0V0z\" fill=\"none\"/>\n",
              "    <path d=\"M18.56 5.44l.94 2.06.94-2.06 2.06-.94-2.06-.94-.94-2.06-.94 2.06-2.06.94zm-11 1L8.5 8.5l.94-2.06 2.06-.94-2.06-.94L8.5 2.5l-.94 2.06-2.06.94zm10 10l.94 2.06.94-2.06 2.06-.94-2.06-.94-.94-2.06-.94 2.06-2.06.94z\"/><path d=\"M17.41 7.96l-1.37-1.37c-.4-.4-.92-.59-1.43-.59-.52 0-1.04.2-1.43.59L10.3 9.45l-7.72 7.72c-.78.78-.78 2.05 0 2.83L4 21.41c.39.39.9.59 1.41.59.51 0 1.02-.2 1.41-.59l7.78-7.78 2.81-2.81c.8-.78.8-2.07 0-2.86zM5.41 20L4 18.59l7.72-7.72 1.47 1.35L5.41 20z\"/>\n",
              "  </svg>\n",
              "      </button>\n",
              "      \n",
              "  <style>\n",
              "    .colab-df-container {\n",
              "      display:flex;\n",
              "      flex-wrap:wrap;\n",
              "      gap: 12px;\n",
              "    }\n",
              "\n",
              "    .colab-df-convert {\n",
              "      background-color: #E8F0FE;\n",
              "      border: none;\n",
              "      border-radius: 50%;\n",
              "      cursor: pointer;\n",
              "      display: none;\n",
              "      fill: #1967D2;\n",
              "      height: 32px;\n",
              "      padding: 0 0 0 0;\n",
              "      width: 32px;\n",
              "    }\n",
              "\n",
              "    .colab-df-convert:hover {\n",
              "      background-color: #E2EBFA;\n",
              "      box-shadow: 0px 1px 2px rgba(60, 64, 67, 0.3), 0px 1px 3px 1px rgba(60, 64, 67, 0.15);\n",
              "      fill: #174EA6;\n",
              "    }\n",
              "\n",
              "    [theme=dark] .colab-df-convert {\n",
              "      background-color: #3B4455;\n",
              "      fill: #D2E3FC;\n",
              "    }\n",
              "\n",
              "    [theme=dark] .colab-df-convert:hover {\n",
              "      background-color: #434B5C;\n",
              "      box-shadow: 0px 1px 3px 1px rgba(0, 0, 0, 0.15);\n",
              "      filter: drop-shadow(0px 1px 2px rgba(0, 0, 0, 0.3));\n",
              "      fill: #FFFFFF;\n",
              "    }\n",
              "  </style>\n",
              "\n",
              "      <script>\n",
              "        const buttonEl =\n",
              "          document.querySelector('#df-1b1d6ff9-6fae-4875-9d17-7d8e6defbc6e button.colab-df-convert');\n",
              "        buttonEl.style.display =\n",
              "          google.colab.kernel.accessAllowed ? 'block' : 'none';\n",
              "\n",
              "        async function convertToInteractive(key) {\n",
              "          const element = document.querySelector('#df-1b1d6ff9-6fae-4875-9d17-7d8e6defbc6e');\n",
              "          const dataTable =\n",
              "            await google.colab.kernel.invokeFunction('convertToInteractive',\n",
              "                                                     [key], {});\n",
              "          if (!dataTable) return;\n",
              "\n",
              "          const docLinkHtml = 'Like what you see? Visit the ' +\n",
              "            '<a target=\"_blank\" href=https://colab.research.google.com/notebooks/data_table.ipynb>data table notebook</a>'\n",
              "            + ' to learn more about interactive tables.';\n",
              "          element.innerHTML = '';\n",
              "          dataTable['output_type'] = 'display_data';\n",
              "          await google.colab.output.renderOutput(dataTable, element);\n",
              "          const docLink = document.createElement('div');\n",
              "          docLink.innerHTML = docLinkHtml;\n",
              "          element.appendChild(docLink);\n",
              "        }\n",
              "      </script>\n",
              "    </div>\n",
              "  </div>\n",
              "  "
            ]
          },
          "metadata": {},
          "execution_count": 52
        }
      ]
    },
    {
      "cell_type": "code",
      "source": [
        "# Number of rows and columns in the Dataset\n",
        "df.shape"
      ],
      "metadata": {
        "id": "b_GcNF6oYbCr",
        "colab": {
          "base_uri": "https://localhost:8080/"
        },
        "outputId": "89cb18de-60e2-4a8c-a9ce-d51237357d4a"
      },
      "execution_count": null,
      "outputs": [
        {
          "output_type": "execute_result",
          "data": {
            "text/plain": [
              "(91436, 13)"
            ]
          },
          "metadata": {},
          "execution_count": 53
        }
      ]
    },
    {
      "cell_type": "code",
      "source": [
        "# getting some info about the Data\n",
        "df.info()"
      ],
      "metadata": {
        "colab": {
          "base_uri": "https://localhost:8080/"
        },
        "id": "tW_HSbV-SB2X",
        "outputId": "95fe1ca4-b062-4ff3-e37f-cadf2847ae58"
      },
      "execution_count": null,
      "outputs": [
        {
          "output_type": "stream",
          "name": "stdout",
          "text": [
            "<class 'pandas.core.frame.DataFrame'>\n",
            "RangeIndex: 91436 entries, 0 to 91435\n",
            "Data columns (total 13 columns):\n",
            " #   Column       Non-Null Count  Dtype  \n",
            "---  ------       --------------  -----  \n",
            " 0   id           91436 non-null  int64  \n",
            " 1   age          91436 non-null  float64\n",
            " 2   gender       91436 non-null  int64  \n",
            " 3   height       91435 non-null  float64\n",
            " 4   weight       91435 non-null  float64\n",
            " 5   ap_hi        91435 non-null  float64\n",
            " 6   ap_lo        91435 non-null  float64\n",
            " 7   cholesterol  91435 non-null  float64\n",
            " 8   gluc         91433 non-null  float64\n",
            " 9   smoke        91433 non-null  float64\n",
            " 10  alco         91433 non-null  float64\n",
            " 11  active       91433 non-null  float64\n",
            " 12  cardio       91433 non-null  float64\n",
            "dtypes: float64(11), int64(2)\n",
            "memory usage: 9.1 MB\n"
          ]
        }
      ]
    },
    {
      "cell_type": "code",
      "source": [
        "#Check for missing values\n",
        "df.isna().sum()"
      ],
      "metadata": {
        "colab": {
          "base_uri": "https://localhost:8080/"
        },
        "id": "zibGQZpHSpBY",
        "outputId": "5382bfb8-2343-41af-be9c-83d3808f4f39"
      },
      "execution_count": null,
      "outputs": [
        {
          "output_type": "execute_result",
          "data": {
            "text/plain": [
              "id             0\n",
              "age            0\n",
              "gender         0\n",
              "height         1\n",
              "weight         1\n",
              "ap_hi          1\n",
              "ap_lo          1\n",
              "cholesterol    1\n",
              "gluc           3\n",
              "smoke          3\n",
              "alco           3\n",
              "active         3\n",
              "cardio         3\n",
              "dtype: int64"
            ]
          },
          "metadata": {},
          "execution_count": 55
        }
      ]
    },
    {
      "cell_type": "code",
      "source": [
        "df['gender']=df['gender'].fillna(df['gender'].mean())\n",
        "df['height']=df['height'].fillna(df['height'].mean())\n",
        "df['weight']=df['weight'].fillna(df['weight'].mean())\n",
        "df['ap_hi']=df['ap_hi'].fillna(df['ap_hi'].mean())\n",
        "df['ap_lo']=df['ap_lo'].fillna(df['ap_lo'].mean())\n",
        "df['cholesterol']=df['cholesterol'].fillna(df['cholesterol'].mean())\n",
        "\n",
        "\n",
        "df['gluc']=df['gluc'].fillna(df['gluc'].mean())\n",
        "df['smoke']=df['smoke'].fillna(df['smoke'].mean())\n",
        "df['alco']=df['alco'].fillna(df['alco'].mean())\n",
        "df['active']=df['active'].fillna(df['active'].mean())\n",
        "df['cardio']=df['cardio'].fillna(df['cardio'].mean())\n",
        "df['cardio']=df['cardio'].astype(int)"
      ],
      "metadata": {
        "id": "bc01GfnqRCpT"
      },
      "execution_count": null,
      "outputs": []
    },
    {
      "cell_type": "markdown",
      "source": [
        "**DROPPING ID COLUMN**"
      ],
      "metadata": {
        "id": "yCQbw8TVTl78"
      }
    },
    {
      "cell_type": "code",
      "source": [
        "df.drop(['id'],axis=1,inplace=True)\n",
        "df"
      ],
      "metadata": {
        "colab": {
          "base_uri": "https://localhost:8080/",
          "height": 424
        },
        "id": "dWH5dI3JTdp2",
        "outputId": "2b2381f5-aa77-4862-bcab-769ca49891e9"
      },
      "execution_count": null,
      "outputs": [
        {
          "output_type": "execute_result",
          "data": {
            "text/plain": [
              "             age  gender     height      weight      ap_hi       ap_lo  \\\n",
              "0      50.391781       2  168.00000   62.000000  110.00000   80.000000   \n",
              "1      55.419178       1  156.00000   85.000000  140.00000   90.000000   \n",
              "2      51.663014       1  165.00000   64.000000  130.00000   70.000000   \n",
              "3      48.282192       2  169.00000   82.000000  150.00000  100.000000   \n",
              "4      47.873973       1  156.00000   56.000000  100.00000   60.000000   \n",
              "...          ...     ...        ...         ...        ...         ...   \n",
              "91431  53.890411       2  183.00000  100.000000   90.00000  150.000000   \n",
              "91432  44.227397       1  150.00000   69.000000  120.00000   80.000000   \n",
              "91433  49.643836       2  176.00000   89.000000  140.00000   90.000000   \n",
              "91434  56.142466       2  168.00000   75.000000  120.00000   80.000000   \n",
              "91435  47.712329       2  164.36731   74.260071  128.79673   97.416558   \n",
              "\n",
              "       cholesterol      gluc     smoke      alco    active  cardio  \n",
              "0         1.000000  1.000000  0.000000  0.000000  1.000000       0  \n",
              "1         3.000000  1.000000  0.000000  0.000000  1.000000       1  \n",
              "2         3.000000  1.000000  0.000000  0.000000  0.000000       1  \n",
              "3         1.000000  1.000000  0.000000  0.000000  1.000000       1  \n",
              "4         1.000000  1.000000  0.000000  0.000000  0.000000       0  \n",
              "...            ...       ...       ...       ...       ...     ...  \n",
              "91431     1.000000  1.000000  0.000000  0.000000  1.000000       1  \n",
              "91432     1.000000  1.000000  0.000000  0.000000  0.000000       1  \n",
              "91433     1.000000  1.000000  0.000000  0.000000  1.000000       1  \n",
              "91434     1.000000  1.000000  1.000000  0.000000  1.000000       0  \n",
              "91435     1.362126  1.225258  0.087496  0.052957  0.801242       0  \n",
              "\n",
              "[91436 rows x 12 columns]"
            ],
            "text/html": [
              "\n",
              "  <div id=\"df-1d562370-548a-48fd-9652-859084d66342\">\n",
              "    <div class=\"colab-df-container\">\n",
              "      <div>\n",
              "<style scoped>\n",
              "    .dataframe tbody tr th:only-of-type {\n",
              "        vertical-align: middle;\n",
              "    }\n",
              "\n",
              "    .dataframe tbody tr th {\n",
              "        vertical-align: top;\n",
              "    }\n",
              "\n",
              "    .dataframe thead th {\n",
              "        text-align: right;\n",
              "    }\n",
              "</style>\n",
              "<table border=\"1\" class=\"dataframe\">\n",
              "  <thead>\n",
              "    <tr style=\"text-align: right;\">\n",
              "      <th></th>\n",
              "      <th>age</th>\n",
              "      <th>gender</th>\n",
              "      <th>height</th>\n",
              "      <th>weight</th>\n",
              "      <th>ap_hi</th>\n",
              "      <th>ap_lo</th>\n",
              "      <th>cholesterol</th>\n",
              "      <th>gluc</th>\n",
              "      <th>smoke</th>\n",
              "      <th>alco</th>\n",
              "      <th>active</th>\n",
              "      <th>cardio</th>\n",
              "    </tr>\n",
              "  </thead>\n",
              "  <tbody>\n",
              "    <tr>\n",
              "      <th>0</th>\n",
              "      <td>50.391781</td>\n",
              "      <td>2</td>\n",
              "      <td>168.00000</td>\n",
              "      <td>62.000000</td>\n",
              "      <td>110.00000</td>\n",
              "      <td>80.000000</td>\n",
              "      <td>1.000000</td>\n",
              "      <td>1.000000</td>\n",
              "      <td>0.000000</td>\n",
              "      <td>0.000000</td>\n",
              "      <td>1.000000</td>\n",
              "      <td>0</td>\n",
              "    </tr>\n",
              "    <tr>\n",
              "      <th>1</th>\n",
              "      <td>55.419178</td>\n",
              "      <td>1</td>\n",
              "      <td>156.00000</td>\n",
              "      <td>85.000000</td>\n",
              "      <td>140.00000</td>\n",
              "      <td>90.000000</td>\n",
              "      <td>3.000000</td>\n",
              "      <td>1.000000</td>\n",
              "      <td>0.000000</td>\n",
              "      <td>0.000000</td>\n",
              "      <td>1.000000</td>\n",
              "      <td>1</td>\n",
              "    </tr>\n",
              "    <tr>\n",
              "      <th>2</th>\n",
              "      <td>51.663014</td>\n",
              "      <td>1</td>\n",
              "      <td>165.00000</td>\n",
              "      <td>64.000000</td>\n",
              "      <td>130.00000</td>\n",
              "      <td>70.000000</td>\n",
              "      <td>3.000000</td>\n",
              "      <td>1.000000</td>\n",
              "      <td>0.000000</td>\n",
              "      <td>0.000000</td>\n",
              "      <td>0.000000</td>\n",
              "      <td>1</td>\n",
              "    </tr>\n",
              "    <tr>\n",
              "      <th>3</th>\n",
              "      <td>48.282192</td>\n",
              "      <td>2</td>\n",
              "      <td>169.00000</td>\n",
              "      <td>82.000000</td>\n",
              "      <td>150.00000</td>\n",
              "      <td>100.000000</td>\n",
              "      <td>1.000000</td>\n",
              "      <td>1.000000</td>\n",
              "      <td>0.000000</td>\n",
              "      <td>0.000000</td>\n",
              "      <td>1.000000</td>\n",
              "      <td>1</td>\n",
              "    </tr>\n",
              "    <tr>\n",
              "      <th>4</th>\n",
              "      <td>47.873973</td>\n",
              "      <td>1</td>\n",
              "      <td>156.00000</td>\n",
              "      <td>56.000000</td>\n",
              "      <td>100.00000</td>\n",
              "      <td>60.000000</td>\n",
              "      <td>1.000000</td>\n",
              "      <td>1.000000</td>\n",
              "      <td>0.000000</td>\n",
              "      <td>0.000000</td>\n",
              "      <td>0.000000</td>\n",
              "      <td>0</td>\n",
              "    </tr>\n",
              "    <tr>\n",
              "      <th>...</th>\n",
              "      <td>...</td>\n",
              "      <td>...</td>\n",
              "      <td>...</td>\n",
              "      <td>...</td>\n",
              "      <td>...</td>\n",
              "      <td>...</td>\n",
              "      <td>...</td>\n",
              "      <td>...</td>\n",
              "      <td>...</td>\n",
              "      <td>...</td>\n",
              "      <td>...</td>\n",
              "      <td>...</td>\n",
              "    </tr>\n",
              "    <tr>\n",
              "      <th>91431</th>\n",
              "      <td>53.890411</td>\n",
              "      <td>2</td>\n",
              "      <td>183.00000</td>\n",
              "      <td>100.000000</td>\n",
              "      <td>90.00000</td>\n",
              "      <td>150.000000</td>\n",
              "      <td>1.000000</td>\n",
              "      <td>1.000000</td>\n",
              "      <td>0.000000</td>\n",
              "      <td>0.000000</td>\n",
              "      <td>1.000000</td>\n",
              "      <td>1</td>\n",
              "    </tr>\n",
              "    <tr>\n",
              "      <th>91432</th>\n",
              "      <td>44.227397</td>\n",
              "      <td>1</td>\n",
              "      <td>150.00000</td>\n",
              "      <td>69.000000</td>\n",
              "      <td>120.00000</td>\n",
              "      <td>80.000000</td>\n",
              "      <td>1.000000</td>\n",
              "      <td>1.000000</td>\n",
              "      <td>0.000000</td>\n",
              "      <td>0.000000</td>\n",
              "      <td>0.000000</td>\n",
              "      <td>1</td>\n",
              "    </tr>\n",
              "    <tr>\n",
              "      <th>91433</th>\n",
              "      <td>49.643836</td>\n",
              "      <td>2</td>\n",
              "      <td>176.00000</td>\n",
              "      <td>89.000000</td>\n",
              "      <td>140.00000</td>\n",
              "      <td>90.000000</td>\n",
              "      <td>1.000000</td>\n",
              "      <td>1.000000</td>\n",
              "      <td>0.000000</td>\n",
              "      <td>0.000000</td>\n",
              "      <td>1.000000</td>\n",
              "      <td>1</td>\n",
              "    </tr>\n",
              "    <tr>\n",
              "      <th>91434</th>\n",
              "      <td>56.142466</td>\n",
              "      <td>2</td>\n",
              "      <td>168.00000</td>\n",
              "      <td>75.000000</td>\n",
              "      <td>120.00000</td>\n",
              "      <td>80.000000</td>\n",
              "      <td>1.000000</td>\n",
              "      <td>1.000000</td>\n",
              "      <td>1.000000</td>\n",
              "      <td>0.000000</td>\n",
              "      <td>1.000000</td>\n",
              "      <td>0</td>\n",
              "    </tr>\n",
              "    <tr>\n",
              "      <th>91435</th>\n",
              "      <td>47.712329</td>\n",
              "      <td>2</td>\n",
              "      <td>164.36731</td>\n",
              "      <td>74.260071</td>\n",
              "      <td>128.79673</td>\n",
              "      <td>97.416558</td>\n",
              "      <td>1.362126</td>\n",
              "      <td>1.225258</td>\n",
              "      <td>0.087496</td>\n",
              "      <td>0.052957</td>\n",
              "      <td>0.801242</td>\n",
              "      <td>0</td>\n",
              "    </tr>\n",
              "  </tbody>\n",
              "</table>\n",
              "<p>91436 rows × 12 columns</p>\n",
              "</div>\n",
              "      <button class=\"colab-df-convert\" onclick=\"convertToInteractive('df-1d562370-548a-48fd-9652-859084d66342')\"\n",
              "              title=\"Convert this dataframe to an interactive table.\"\n",
              "              style=\"display:none;\">\n",
              "        \n",
              "  <svg xmlns=\"http://www.w3.org/2000/svg\" height=\"24px\"viewBox=\"0 0 24 24\"\n",
              "       width=\"24px\">\n",
              "    <path d=\"M0 0h24v24H0V0z\" fill=\"none\"/>\n",
              "    <path d=\"M18.56 5.44l.94 2.06.94-2.06 2.06-.94-2.06-.94-.94-2.06-.94 2.06-2.06.94zm-11 1L8.5 8.5l.94-2.06 2.06-.94-2.06-.94L8.5 2.5l-.94 2.06-2.06.94zm10 10l.94 2.06.94-2.06 2.06-.94-2.06-.94-.94-2.06-.94 2.06-2.06.94z\"/><path d=\"M17.41 7.96l-1.37-1.37c-.4-.4-.92-.59-1.43-.59-.52 0-1.04.2-1.43.59L10.3 9.45l-7.72 7.72c-.78.78-.78 2.05 0 2.83L4 21.41c.39.39.9.59 1.41.59.51 0 1.02-.2 1.41-.59l7.78-7.78 2.81-2.81c.8-.78.8-2.07 0-2.86zM5.41 20L4 18.59l7.72-7.72 1.47 1.35L5.41 20z\"/>\n",
              "  </svg>\n",
              "      </button>\n",
              "      \n",
              "  <style>\n",
              "    .colab-df-container {\n",
              "      display:flex;\n",
              "      flex-wrap:wrap;\n",
              "      gap: 12px;\n",
              "    }\n",
              "\n",
              "    .colab-df-convert {\n",
              "      background-color: #E8F0FE;\n",
              "      border: none;\n",
              "      border-radius: 50%;\n",
              "      cursor: pointer;\n",
              "      display: none;\n",
              "      fill: #1967D2;\n",
              "      height: 32px;\n",
              "      padding: 0 0 0 0;\n",
              "      width: 32px;\n",
              "    }\n",
              "\n",
              "    .colab-df-convert:hover {\n",
              "      background-color: #E2EBFA;\n",
              "      box-shadow: 0px 1px 2px rgba(60, 64, 67, 0.3), 0px 1px 3px 1px rgba(60, 64, 67, 0.15);\n",
              "      fill: #174EA6;\n",
              "    }\n",
              "\n",
              "    [theme=dark] .colab-df-convert {\n",
              "      background-color: #3B4455;\n",
              "      fill: #D2E3FC;\n",
              "    }\n",
              "\n",
              "    [theme=dark] .colab-df-convert:hover {\n",
              "      background-color: #434B5C;\n",
              "      box-shadow: 0px 1px 3px 1px rgba(0, 0, 0, 0.15);\n",
              "      filter: drop-shadow(0px 1px 2px rgba(0, 0, 0, 0.3));\n",
              "      fill: #FFFFFF;\n",
              "    }\n",
              "  </style>\n",
              "\n",
              "      <script>\n",
              "        const buttonEl =\n",
              "          document.querySelector('#df-1d562370-548a-48fd-9652-859084d66342 button.colab-df-convert');\n",
              "        buttonEl.style.display =\n",
              "          google.colab.kernel.accessAllowed ? 'block' : 'none';\n",
              "\n",
              "        async function convertToInteractive(key) {\n",
              "          const element = document.querySelector('#df-1d562370-548a-48fd-9652-859084d66342');\n",
              "          const dataTable =\n",
              "            await google.colab.kernel.invokeFunction('convertToInteractive',\n",
              "                                                     [key], {});\n",
              "          if (!dataTable) return;\n",
              "\n",
              "          const docLinkHtml = 'Like what you see? Visit the ' +\n",
              "            '<a target=\"_blank\" href=https://colab.research.google.com/notebooks/data_table.ipynb>data table notebook</a>'\n",
              "            + ' to learn more about interactive tables.';\n",
              "          element.innerHTML = '';\n",
              "          dataTable['output_type'] = 'display_data';\n",
              "          await google.colab.output.renderOutput(dataTable, element);\n",
              "          const docLink = document.createElement('div');\n",
              "          docLink.innerHTML = docLinkHtml;\n",
              "          element.appendChild(docLink);\n",
              "        }\n",
              "      </script>\n",
              "    </div>\n",
              "  </div>\n",
              "  "
            ]
          },
          "metadata": {},
          "execution_count": 57
        }
      ]
    },
    {
      "cell_type": "code",
      "source": [
        "# statistical measures about the data\n",
        "df.describe()"
      ],
      "metadata": {
        "id": "i27deRZrS5F2",
        "colab": {
          "base_uri": "https://localhost:8080/",
          "height": 300
        },
        "outputId": "f3feb534-c255-49dd-a8a1-2009bf37c4a9"
      },
      "execution_count": null,
      "outputs": [
        {
          "output_type": "execute_result",
          "data": {
            "text/plain": [
              "                age        gender       height        weight         ap_hi  \\\n",
              "count  91436.000000  91436.000000  91436.00000  91436.000000  91436.000000   \n",
              "mean      53.344321      1.346975    164.36731     74.260071    128.796730   \n",
              "std        6.774689      0.476010      8.21145     14.359884    152.438373   \n",
              "min       29.583562      1.000000      1.00000      0.000000   -150.000000   \n",
              "25%       48.394521      1.000000    159.00000     65.000000    120.000000   \n",
              "50%       53.997260      1.000000    165.00000     72.000000    120.000000   \n",
              "75%       58.444521      2.000000    170.00000     82.000000    140.000000   \n",
              "max       64.904110      2.000000    250.00000    200.000000  16020.000000   \n",
              "\n",
              "              ap_lo   cholesterol          gluc         smoke          alco  \\\n",
              "count  91436.000000  91436.000000  91436.000000  91436.000000  91436.000000   \n",
              "mean      97.416558      1.362126      1.225258      0.087496      0.052957   \n",
              "std      210.690743      0.676283      0.571125      0.282557      0.223945   \n",
              "min        0.000000      0.000000      1.000000      0.000000      0.000000   \n",
              "25%       80.000000      1.000000      1.000000      0.000000      0.000000   \n",
              "50%       80.000000      1.000000      1.000000      0.000000      0.000000   \n",
              "75%       90.000000      1.000000      1.000000      0.000000      0.000000   \n",
              "max    11000.000000      3.000000      3.000000      1.000000      1.000000   \n",
              "\n",
              "             active        cardio  \n",
              "count  91436.000000  91436.000000  \n",
              "mean       0.801242      0.500689  \n",
              "std        0.399061      0.500002  \n",
              "min        0.000000      0.000000  \n",
              "25%        1.000000      0.000000  \n",
              "50%        1.000000      1.000000  \n",
              "75%        1.000000      1.000000  \n",
              "max        1.000000      1.000000  "
            ],
            "text/html": [
              "\n",
              "  <div id=\"df-ed22804f-8f88-4483-ba53-d9050fc173d7\">\n",
              "    <div class=\"colab-df-container\">\n",
              "      <div>\n",
              "<style scoped>\n",
              "    .dataframe tbody tr th:only-of-type {\n",
              "        vertical-align: middle;\n",
              "    }\n",
              "\n",
              "    .dataframe tbody tr th {\n",
              "        vertical-align: top;\n",
              "    }\n",
              "\n",
              "    .dataframe thead th {\n",
              "        text-align: right;\n",
              "    }\n",
              "</style>\n",
              "<table border=\"1\" class=\"dataframe\">\n",
              "  <thead>\n",
              "    <tr style=\"text-align: right;\">\n",
              "      <th></th>\n",
              "      <th>age</th>\n",
              "      <th>gender</th>\n",
              "      <th>height</th>\n",
              "      <th>weight</th>\n",
              "      <th>ap_hi</th>\n",
              "      <th>ap_lo</th>\n",
              "      <th>cholesterol</th>\n",
              "      <th>gluc</th>\n",
              "      <th>smoke</th>\n",
              "      <th>alco</th>\n",
              "      <th>active</th>\n",
              "      <th>cardio</th>\n",
              "    </tr>\n",
              "  </thead>\n",
              "  <tbody>\n",
              "    <tr>\n",
              "      <th>count</th>\n",
              "      <td>91436.000000</td>\n",
              "      <td>91436.000000</td>\n",
              "      <td>91436.00000</td>\n",
              "      <td>91436.000000</td>\n",
              "      <td>91436.000000</td>\n",
              "      <td>91436.000000</td>\n",
              "      <td>91436.000000</td>\n",
              "      <td>91436.000000</td>\n",
              "      <td>91436.000000</td>\n",
              "      <td>91436.000000</td>\n",
              "      <td>91436.000000</td>\n",
              "      <td>91436.000000</td>\n",
              "    </tr>\n",
              "    <tr>\n",
              "      <th>mean</th>\n",
              "      <td>53.344321</td>\n",
              "      <td>1.346975</td>\n",
              "      <td>164.36731</td>\n",
              "      <td>74.260071</td>\n",
              "      <td>128.796730</td>\n",
              "      <td>97.416558</td>\n",
              "      <td>1.362126</td>\n",
              "      <td>1.225258</td>\n",
              "      <td>0.087496</td>\n",
              "      <td>0.052957</td>\n",
              "      <td>0.801242</td>\n",
              "      <td>0.500689</td>\n",
              "    </tr>\n",
              "    <tr>\n",
              "      <th>std</th>\n",
              "      <td>6.774689</td>\n",
              "      <td>0.476010</td>\n",
              "      <td>8.21145</td>\n",
              "      <td>14.359884</td>\n",
              "      <td>152.438373</td>\n",
              "      <td>210.690743</td>\n",
              "      <td>0.676283</td>\n",
              "      <td>0.571125</td>\n",
              "      <td>0.282557</td>\n",
              "      <td>0.223945</td>\n",
              "      <td>0.399061</td>\n",
              "      <td>0.500002</td>\n",
              "    </tr>\n",
              "    <tr>\n",
              "      <th>min</th>\n",
              "      <td>29.583562</td>\n",
              "      <td>1.000000</td>\n",
              "      <td>1.00000</td>\n",
              "      <td>0.000000</td>\n",
              "      <td>-150.000000</td>\n",
              "      <td>0.000000</td>\n",
              "      <td>0.000000</td>\n",
              "      <td>1.000000</td>\n",
              "      <td>0.000000</td>\n",
              "      <td>0.000000</td>\n",
              "      <td>0.000000</td>\n",
              "      <td>0.000000</td>\n",
              "    </tr>\n",
              "    <tr>\n",
              "      <th>25%</th>\n",
              "      <td>48.394521</td>\n",
              "      <td>1.000000</td>\n",
              "      <td>159.00000</td>\n",
              "      <td>65.000000</td>\n",
              "      <td>120.000000</td>\n",
              "      <td>80.000000</td>\n",
              "      <td>1.000000</td>\n",
              "      <td>1.000000</td>\n",
              "      <td>0.000000</td>\n",
              "      <td>0.000000</td>\n",
              "      <td>1.000000</td>\n",
              "      <td>0.000000</td>\n",
              "    </tr>\n",
              "    <tr>\n",
              "      <th>50%</th>\n",
              "      <td>53.997260</td>\n",
              "      <td>1.000000</td>\n",
              "      <td>165.00000</td>\n",
              "      <td>72.000000</td>\n",
              "      <td>120.000000</td>\n",
              "      <td>80.000000</td>\n",
              "      <td>1.000000</td>\n",
              "      <td>1.000000</td>\n",
              "      <td>0.000000</td>\n",
              "      <td>0.000000</td>\n",
              "      <td>1.000000</td>\n",
              "      <td>1.000000</td>\n",
              "    </tr>\n",
              "    <tr>\n",
              "      <th>75%</th>\n",
              "      <td>58.444521</td>\n",
              "      <td>2.000000</td>\n",
              "      <td>170.00000</td>\n",
              "      <td>82.000000</td>\n",
              "      <td>140.000000</td>\n",
              "      <td>90.000000</td>\n",
              "      <td>1.000000</td>\n",
              "      <td>1.000000</td>\n",
              "      <td>0.000000</td>\n",
              "      <td>0.000000</td>\n",
              "      <td>1.000000</td>\n",
              "      <td>1.000000</td>\n",
              "    </tr>\n",
              "    <tr>\n",
              "      <th>max</th>\n",
              "      <td>64.904110</td>\n",
              "      <td>2.000000</td>\n",
              "      <td>250.00000</td>\n",
              "      <td>200.000000</td>\n",
              "      <td>16020.000000</td>\n",
              "      <td>11000.000000</td>\n",
              "      <td>3.000000</td>\n",
              "      <td>3.000000</td>\n",
              "      <td>1.000000</td>\n",
              "      <td>1.000000</td>\n",
              "      <td>1.000000</td>\n",
              "      <td>1.000000</td>\n",
              "    </tr>\n",
              "  </tbody>\n",
              "</table>\n",
              "</div>\n",
              "      <button class=\"colab-df-convert\" onclick=\"convertToInteractive('df-ed22804f-8f88-4483-ba53-d9050fc173d7')\"\n",
              "              title=\"Convert this dataframe to an interactive table.\"\n",
              "              style=\"display:none;\">\n",
              "        \n",
              "  <svg xmlns=\"http://www.w3.org/2000/svg\" height=\"24px\"viewBox=\"0 0 24 24\"\n",
              "       width=\"24px\">\n",
              "    <path d=\"M0 0h24v24H0V0z\" fill=\"none\"/>\n",
              "    <path d=\"M18.56 5.44l.94 2.06.94-2.06 2.06-.94-2.06-.94-.94-2.06-.94 2.06-2.06.94zm-11 1L8.5 8.5l.94-2.06 2.06-.94-2.06-.94L8.5 2.5l-.94 2.06-2.06.94zm10 10l.94 2.06.94-2.06 2.06-.94-2.06-.94-.94-2.06-.94 2.06-2.06.94z\"/><path d=\"M17.41 7.96l-1.37-1.37c-.4-.4-.92-.59-1.43-.59-.52 0-1.04.2-1.43.59L10.3 9.45l-7.72 7.72c-.78.78-.78 2.05 0 2.83L4 21.41c.39.39.9.59 1.41.59.51 0 1.02-.2 1.41-.59l7.78-7.78 2.81-2.81c.8-.78.8-2.07 0-2.86zM5.41 20L4 18.59l7.72-7.72 1.47 1.35L5.41 20z\"/>\n",
              "  </svg>\n",
              "      </button>\n",
              "      \n",
              "  <style>\n",
              "    .colab-df-container {\n",
              "      display:flex;\n",
              "      flex-wrap:wrap;\n",
              "      gap: 12px;\n",
              "    }\n",
              "\n",
              "    .colab-df-convert {\n",
              "      background-color: #E8F0FE;\n",
              "      border: none;\n",
              "      border-radius: 50%;\n",
              "      cursor: pointer;\n",
              "      display: none;\n",
              "      fill: #1967D2;\n",
              "      height: 32px;\n",
              "      padding: 0 0 0 0;\n",
              "      width: 32px;\n",
              "    }\n",
              "\n",
              "    .colab-df-convert:hover {\n",
              "      background-color: #E2EBFA;\n",
              "      box-shadow: 0px 1px 2px rgba(60, 64, 67, 0.3), 0px 1px 3px 1px rgba(60, 64, 67, 0.15);\n",
              "      fill: #174EA6;\n",
              "    }\n",
              "\n",
              "    [theme=dark] .colab-df-convert {\n",
              "      background-color: #3B4455;\n",
              "      fill: #D2E3FC;\n",
              "    }\n",
              "\n",
              "    [theme=dark] .colab-df-convert:hover {\n",
              "      background-color: #434B5C;\n",
              "      box-shadow: 0px 1px 3px 1px rgba(0, 0, 0, 0.15);\n",
              "      filter: drop-shadow(0px 1px 2px rgba(0, 0, 0, 0.3));\n",
              "      fill: #FFFFFF;\n",
              "    }\n",
              "  </style>\n",
              "\n",
              "      <script>\n",
              "        const buttonEl =\n",
              "          document.querySelector('#df-ed22804f-8f88-4483-ba53-d9050fc173d7 button.colab-df-convert');\n",
              "        buttonEl.style.display =\n",
              "          google.colab.kernel.accessAllowed ? 'block' : 'none';\n",
              "\n",
              "        async function convertToInteractive(key) {\n",
              "          const element = document.querySelector('#df-ed22804f-8f88-4483-ba53-d9050fc173d7');\n",
              "          const dataTable =\n",
              "            await google.colab.kernel.invokeFunction('convertToInteractive',\n",
              "                                                     [key], {});\n",
              "          if (!dataTable) return;\n",
              "\n",
              "          const docLinkHtml = 'Like what you see? Visit the ' +\n",
              "            '<a target=\"_blank\" href=https://colab.research.google.com/notebooks/data_table.ipynb>data table notebook</a>'\n",
              "            + ' to learn more about interactive tables.';\n",
              "          element.innerHTML = '';\n",
              "          dataTable['output_type'] = 'display_data';\n",
              "          await google.colab.output.renderOutput(dataTable, element);\n",
              "          const docLink = document.createElement('div');\n",
              "          docLink.innerHTML = docLinkHtml;\n",
              "          element.appendChild(docLink);\n",
              "        }\n",
              "      </script>\n",
              "    </div>\n",
              "  </div>\n",
              "  "
            ]
          },
          "metadata": {},
          "execution_count": 58
        }
      ]
    },
    {
      "cell_type": "code",
      "source": [
        "# checking the distribution of cardio variable\n",
        "df.cardio.value_counts()"
      ],
      "metadata": {
        "id": "BxuUTUZyUhIb",
        "colab": {
          "base_uri": "https://localhost:8080/"
        },
        "outputId": "2ac8f7f1-cb34-4808-df4c-c4ca804d27fd"
      },
      "execution_count": null,
      "outputs": [
        {
          "output_type": "execute_result",
          "data": {
            "text/plain": [
              "1    45781\n",
              "0    45655\n",
              "Name: cardio, dtype: int64"
            ]
          },
          "metadata": {},
          "execution_count": 59
        }
      ]
    },
    {
      "cell_type": "markdown",
      "source": [
        "**REMOVING DUPLICATE ROWS**"
      ],
      "metadata": {
        "id": "w8zZgEBYMozC"
      }
    },
    {
      "cell_type": "code",
      "source": [
        "df.duplicated().sum()"
      ],
      "metadata": {
        "id": "bundm7f1MtTw",
        "colab": {
          "base_uri": "https://localhost:8080/"
        },
        "outputId": "02fc7bed-f023-4b05-c394-5a3c35ab4bb0"
      },
      "execution_count": null,
      "outputs": [
        {
          "output_type": "execute_result",
          "data": {
            "text/plain": [
              "45645"
            ]
          },
          "metadata": {},
          "execution_count": 60
        }
      ]
    },
    {
      "cell_type": "code",
      "source": [
        "df.drop_duplicates(inplace=True)"
      ],
      "metadata": {
        "id": "lmW3HQUfNKnQ"
      },
      "execution_count": null,
      "outputs": []
    },
    {
      "cell_type": "markdown",
      "source": [
        "**DATA ANALYSIS**"
      ],
      "metadata": {
        "id": "n0WjnOdBVGpw"
      }
    },
    {
      "cell_type": "markdown",
      "source": [
        "**1.COUNT PLOT**"
      ],
      "metadata": {
        "id": "60761Sq6VThO"
      }
    },
    {
      "cell_type": "code",
      "source": [
        "sns.countplot(x='cardio',data=df)"
      ],
      "metadata": {
        "id": "vHsZGXGORyaO",
        "colab": {
          "base_uri": "https://localhost:8080/",
          "height": 296
        },
        "outputId": "a781abca-7bee-4f4b-d097-5f412ce86d9a"
      },
      "execution_count": null,
      "outputs": [
        {
          "output_type": "execute_result",
          "data": {
            "text/plain": [
              "<matplotlib.axes._subplots.AxesSubplot at 0x7fcc8697a8e0>"
            ]
          },
          "metadata": {},
          "execution_count": 62
        },
        {
          "output_type": "display_data",
          "data": {
            "text/plain": [
              "<Figure size 432x288 with 1 Axes>"
            ],
            "image/png": "[encoded data removed]"
          },
          "metadata": {
            "needs_background": "light"
          }
        }
      ]
    },
    {
      "cell_type": "markdown",
      "source": [
        "**2.CORRELATION**"
      ],
      "metadata": {
        "id": "zUZgLEtTWLEG"
      }
    },
    {
      "cell_type": "code",
      "source": [
        "df.corr()"
      ],
      "metadata": {
        "id": "Z8sLqfj7WSxU",
        "colab": {
          "base_uri": "https://localhost:8080/",
          "height": 426
        },
        "outputId": "8c32c7a4-8054-48b3-80f5-1d881a3cbd5e"
      },
      "execution_count": null,
      "outputs": [
        {
          "output_type": "execute_result",
          "data": {
            "text/plain": [
              "                  age    gender    height    weight     ap_hi     ap_lo  \\\n",
              "age          1.000000 -0.018102 -0.077601  0.052518  0.023992  0.016777   \n",
              "gender      -0.018102  1.000000  0.496549  0.149735  0.005629  0.016331   \n",
              "height      -0.077601  0.496549  1.000000  0.286492  0.008766  0.010433   \n",
              "weight       0.052518  0.149735  0.286492  1.000000  0.034326  0.041010   \n",
              "ap_hi        0.023992  0.005629  0.008766  0.034326  1.000000  0.017391   \n",
              "ap_lo        0.016777  0.016331  0.010433  0.041010  0.017391  1.000000   \n",
              "cholesterol  0.156020 -0.037082 -0.051983  0.138098  0.031554  0.019567   \n",
              "gluc         0.094585 -0.020581 -0.021756  0.101154  0.014951  0.011114   \n",
              "smoke       -0.042184  0.341737  0.189984  0.065787 -0.000328  0.006873   \n",
              "alco        -0.029588  0.168098  0.094528  0.067468  0.002156  0.010701   \n",
              "active      -0.009596  0.005756 -0.008460 -0.017479  0.000205  0.003311   \n",
              "cardio       0.236131  0.002772 -0.011974  0.179640  0.065682  0.060593   \n",
              "\n",
              "             cholesterol      gluc     smoke      alco    active    cardio  \n",
              "age             0.156020  0.094585 -0.042184 -0.029588 -0.009596  0.236131  \n",
              "gender         -0.037082 -0.020581  0.341737  0.168098  0.005756  0.002772  \n",
              "height         -0.051983 -0.021756  0.189984  0.094528 -0.008460 -0.011974  \n",
              "weight          0.138098  0.101154  0.065787  0.067468 -0.017479  0.179640  \n",
              "ap_hi           0.031554  0.014951 -0.000328  0.002156  0.000205  0.065682  \n",
              "ap_lo           0.019567  0.011114  0.006873  0.010701  0.003311  0.060593  \n",
              "cholesterol     1.000000  0.453399  0.009740  0.032772  0.008938  0.221405  \n",
              "gluc            0.453399  1.000000 -0.001521  0.010261 -0.010849  0.086209  \n",
              "smoke           0.009740 -0.001521  1.000000  0.336910  0.030236 -0.017167  \n",
              "alco            0.032772  0.010261  0.336910  1.000000  0.029390 -0.009960  \n",
              "active          0.008938 -0.010849  0.030236  0.029390  1.000000 -0.038094  \n",
              "cardio          0.221405  0.086209 -0.017167 -0.009960 -0.038094  1.000000  "
            ],
            "text/html": [
              "\n",
              "  <div id=\"df-223ec16a-9bf8-4404-8436-b5b52205bd08\">\n",
              "    <div class=\"colab-df-container\">\n",
              "      <div>\n",
              "<style scoped>\n",
              "    .dataframe tbody tr th:only-of-type {\n",
              "        vertical-align: middle;\n",
              "    }\n",
              "\n",
              "    .dataframe tbody tr th {\n",
              "        vertical-align: top;\n",
              "    }\n",
              "\n",
              "    .dataframe thead th {\n",
              "        text-align: right;\n",
              "    }\n",
              "</style>\n",
              "<table border=\"1\" class=\"dataframe\">\n",
              "  <thead>\n",
              "    <tr style=\"text-align: right;\">\n",
              "      <th></th>\n",
              "      <th>age</th>\n",
              "      <th>gender</th>\n",
              "      <th>height</th>\n",
              "      <th>weight</th>\n",
              "      <th>ap_hi</th>\n",
              "      <th>ap_lo</th>\n",
              "      <th>cholesterol</th>\n",
              "      <th>gluc</th>\n",
              "      <th>smoke</th>\n",
              "      <th>alco</th>\n",
              "      <th>active</th>\n",
              "      <th>cardio</th>\n",
              "    </tr>\n",
              "  </thead>\n",
              "  <tbody>\n",
              "    <tr>\n",
              "      <th>age</th>\n",
              "      <td>1.000000</td>\n",
              "      <td>-0.018102</td>\n",
              "      <td>-0.077601</td>\n",
              "      <td>0.052518</td>\n",
              "      <td>0.023992</td>\n",
              "      <td>0.016777</td>\n",
              "      <td>0.156020</td>\n",
              "      <td>0.094585</td>\n",
              "      <td>-0.042184</td>\n",
              "      <td>-0.029588</td>\n",
              "      <td>-0.009596</td>\n",
              "      <td>0.236131</td>\n",
              "    </tr>\n",
              "    <tr>\n",
              "      <th>gender</th>\n",
              "      <td>-0.018102</td>\n",
              "      <td>1.000000</td>\n",
              "      <td>0.496549</td>\n",
              "      <td>0.149735</td>\n",
              "      <td>0.005629</td>\n",
              "      <td>0.016331</td>\n",
              "      <td>-0.037082</td>\n",
              "      <td>-0.020581</td>\n",
              "      <td>0.341737</td>\n",
              "      <td>0.168098</td>\n",
              "      <td>0.005756</td>\n",
              "      <td>0.002772</td>\n",
              "    </tr>\n",
              "    <tr>\n",
              "      <th>height</th>\n",
              "      <td>-0.077601</td>\n",
              "      <td>0.496549</td>\n",
              "      <td>1.000000</td>\n",
              "      <td>0.286492</td>\n",
              "      <td>0.008766</td>\n",
              "      <td>0.010433</td>\n",
              "      <td>-0.051983</td>\n",
              "      <td>-0.021756</td>\n",
              "      <td>0.189984</td>\n",
              "      <td>0.094528</td>\n",
              "      <td>-0.008460</td>\n",
              "      <td>-0.011974</td>\n",
              "    </tr>\n",
              "    <tr>\n",
              "      <th>weight</th>\n",
              "      <td>0.052518</td>\n",
              "      <td>0.149735</td>\n",
              "      <td>0.286492</td>\n",
              "      <td>1.000000</td>\n",
              "      <td>0.034326</td>\n",
              "      <td>0.041010</td>\n",
              "      <td>0.138098</td>\n",
              "      <td>0.101154</td>\n",
              "      <td>0.065787</td>\n",
              "      <td>0.067468</td>\n",
              "      <td>-0.017479</td>\n",
              "      <td>0.179640</td>\n",
              "    </tr>\n",
              "    <tr>\n",
              "      <th>ap_hi</th>\n",
              "      <td>0.023992</td>\n",
              "      <td>0.005629</td>\n",
              "      <td>0.008766</td>\n",
              "      <td>0.034326</td>\n",
              "      <td>1.000000</td>\n",
              "      <td>0.017391</td>\n",
              "      <td>0.031554</td>\n",
              "      <td>0.014951</td>\n",
              "      <td>-0.000328</td>\n",
              "      <td>0.002156</td>\n",
              "      <td>0.000205</td>\n",
              "      <td>0.065682</td>\n",
              "    </tr>\n",
              "    <tr>\n",
              "      <th>ap_lo</th>\n",
              "      <td>0.016777</td>\n",
              "      <td>0.016331</td>\n",
              "      <td>0.010433</td>\n",
              "      <td>0.041010</td>\n",
              "      <td>0.017391</td>\n",
              "      <td>1.000000</td>\n",
              "      <td>0.019567</td>\n",
              "      <td>0.011114</td>\n",
              "      <td>0.006873</td>\n",
              "      <td>0.010701</td>\n",
              "      <td>0.003311</td>\n",
              "      <td>0.060593</td>\n",
              "    </tr>\n",
              "    <tr>\n",
              "      <th>cholesterol</th>\n",
              "      <td>0.156020</td>\n",
              "      <td>-0.037082</td>\n",
              "      <td>-0.051983</td>\n",
              "      <td>0.138098</td>\n",
              "      <td>0.031554</td>\n",
              "      <td>0.019567</td>\n",
              "      <td>1.000000</td>\n",
              "      <td>0.453399</td>\n",
              "      <td>0.009740</td>\n",
              "      <td>0.032772</td>\n",
              "      <td>0.008938</td>\n",
              "      <td>0.221405</td>\n",
              "    </tr>\n",
              "    <tr>\n",
              "      <th>gluc</th>\n",
              "      <td>0.094585</td>\n",
              "      <td>-0.020581</td>\n",
              "      <td>-0.021756</td>\n",
              "      <td>0.101154</td>\n",
              "      <td>0.014951</td>\n",
              "      <td>0.011114</td>\n",
              "      <td>0.453399</td>\n",
              "      <td>1.000000</td>\n",
              "      <td>-0.001521</td>\n",
              "      <td>0.010261</td>\n",
              "      <td>-0.010849</td>\n",
              "      <td>0.086209</td>\n",
              "    </tr>\n",
              "    <tr>\n",
              "      <th>smoke</th>\n",
              "      <td>-0.042184</td>\n",
              "      <td>0.341737</td>\n",
              "      <td>0.189984</td>\n",
              "      <td>0.065787</td>\n",
              "      <td>-0.000328</td>\n",
              "      <td>0.006873</td>\n",
              "      <td>0.009740</td>\n",
              "      <td>-0.001521</td>\n",
              "      <td>1.000000</td>\n",
              "      <td>0.336910</td>\n",
              "      <td>0.030236</td>\n",
              "      <td>-0.017167</td>\n",
              "    </tr>\n",
              "    <tr>\n",
              "      <th>alco</th>\n",
              "      <td>-0.029588</td>\n",
              "      <td>0.168098</td>\n",
              "      <td>0.094528</td>\n",
              "      <td>0.067468</td>\n",
              "      <td>0.002156</td>\n",
              "      <td>0.010701</td>\n",
              "      <td>0.032772</td>\n",
              "      <td>0.010261</td>\n",
              "      <td>0.336910</td>\n",
              "      <td>1.000000</td>\n",
              "      <td>0.029390</td>\n",
              "      <td>-0.009960</td>\n",
              "    </tr>\n",
              "    <tr>\n",
              "      <th>active</th>\n",
              "      <td>-0.009596</td>\n",
              "      <td>0.005756</td>\n",
              "      <td>-0.008460</td>\n",
              "      <td>-0.017479</td>\n",
              "      <td>0.000205</td>\n",
              "      <td>0.003311</td>\n",
              "      <td>0.008938</td>\n",
              "      <td>-0.010849</td>\n",
              "      <td>0.030236</td>\n",
              "      <td>0.029390</td>\n",
              "      <td>1.000000</td>\n",
              "      <td>-0.038094</td>\n",
              "    </tr>\n",
              "    <tr>\n",
              "      <th>cardio</th>\n",
              "      <td>0.236131</td>\n",
              "      <td>0.002772</td>\n",
              "      <td>-0.011974</td>\n",
              "      <td>0.179640</td>\n",
              "      <td>0.065682</td>\n",
              "      <td>0.060593</td>\n",
              "      <td>0.221405</td>\n",
              "      <td>0.086209</td>\n",
              "      <td>-0.017167</td>\n",
              "      <td>-0.009960</td>\n",
              "      <td>-0.038094</td>\n",
              "      <td>1.000000</td>\n",
              "    </tr>\n",
              "  </tbody>\n",
              "</table>\n",
              "</div>\n",
              "      <button class=\"colab-df-convert\" onclick=\"convertToInteractive('df-223ec16a-9bf8-4404-8436-b5b52205bd08')\"\n",
              "              title=\"Convert this dataframe to an interactive table.\"\n",
              "              style=\"display:none;\">\n",
              "        \n",
              "  <svg xmlns=\"http://www.w3.org/2000/svg\" height=\"24px\"viewBox=\"0 0 24 24\"\n",
              "       width=\"24px\">\n",
              "    <path d=\"M0 0h24v24H0V0z\" fill=\"none\"/>\n",
              "    <path d=\"M18.56 5.44l.94 2.06.94-2.06 2.06-.94-2.06-.94-.94-2.06-.94 2.06-2.06.94zm-11 1L8.5 8.5l.94-2.06 2.06-.94-2.06-.94L8.5 2.5l-.94 2.06-2.06.94zm10 10l.94 2.06.94-2.06 2.06-.94-2.06-.94-.94-2.06-.94 2.06-2.06.94z\"/><path d=\"M17.41 7.96l-1.37-1.37c-.4-.4-.92-.59-1.43-.59-.52 0-1.04.2-1.43.59L10.3 9.45l-7.72 7.72c-.78.78-.78 2.05 0 2.83L4 21.41c.39.39.9.59 1.41.59.51 0 1.02-.2 1.41-.59l7.78-7.78 2.81-2.81c.8-.78.8-2.07 0-2.86zM5.41 20L4 18.59l7.72-7.72 1.47 1.35L5.41 20z\"/>\n",
              "  </svg>\n",
              "      </button>\n",
              "      \n",
              "  <style>\n",
              "    .colab-df-container {\n",
              "      display:flex;\n",
              "      flex-wrap:wrap;\n",
              "      gap: 12px;\n",
              "    }\n",
              "\n",
              "    .colab-df-convert {\n",
              "      background-color: #E8F0FE;\n",
              "      border: none;\n",
              "      border-radius: 50%;\n",
              "      cursor: pointer;\n",
              "      display: none;\n",
              "      fill: #1967D2;\n",
              "      height: 32px;\n",
              "      padding: 0 0 0 0;\n",
              "      width: 32px;\n",
              "    }\n",
              "\n",
              "    .colab-df-convert:hover {\n",
              "      background-color: #E2EBFA;\n",
              "      box-shadow: 0px 1px 2px rgba(60, 64, 67, 0.3), 0px 1px 3px 1px rgba(60, 64, 67, 0.15);\n",
              "      fill: #174EA6;\n",
              "    }\n",
              "\n",
              "    [theme=dark] .colab-df-convert {\n",
              "      background-color: #3B4455;\n",
              "      fill: #D2E3FC;\n",
              "    }\n",
              "\n",
              "    [theme=dark] .colab-df-convert:hover {\n",
              "      background-color: #434B5C;\n",
              "      box-shadow: 0px 1px 3px 1px rgba(0, 0, 0, 0.15);\n",
              "      filter: drop-shadow(0px 1px 2px rgba(0, 0, 0, 0.3));\n",
              "      fill: #FFFFFF;\n",
              "    }\n",
              "  </style>\n",
              "\n",
              "      <script>\n",
              "        const buttonEl =\n",
              "          document.querySelector('#df-223ec16a-9bf8-4404-8436-b5b52205bd08 button.colab-df-convert');\n",
              "        buttonEl.style.display =\n",
              "          google.colab.kernel.accessAllowed ? 'block' : 'none';\n",
              "\n",
              "        async function convertToInteractive(key) {\n",
              "          const element = document.querySelector('#df-223ec16a-9bf8-4404-8436-b5b52205bd08');\n",
              "          const dataTable =\n",
              "            await google.colab.kernel.invokeFunction('convertToInteractive',\n",
              "                                                     [key], {});\n",
              "          if (!dataTable) return;\n",
              "\n",
              "          const docLinkHtml = 'Like what you see? Visit the ' +\n",
              "            '<a target=\"_blank\" href=https://colab.research.google.com/notebooks/data_table.ipynb>data table notebook</a>'\n",
              "            + ' to learn more about interactive tables.';\n",
              "          element.innerHTML = '';\n",
              "          dataTable['output_type'] = 'display_data';\n",
              "          await google.colab.output.renderOutput(dataTable, element);\n",
              "          const docLink = document.createElement('div');\n",
              "          docLink.innerHTML = docLinkHtml;\n",
              "          element.appendChild(docLink);\n",
              "        }\n",
              "      </script>\n",
              "    </div>\n",
              "  </div>\n",
              "  "
            ]
          },
          "metadata": {},
          "execution_count": 63
        }
      ]
    },
    {
      "cell_type": "markdown",
      "source": [
        "**HEATMAP**"
      ],
      "metadata": {
        "id": "D_mC6UgdWikG"
      }
    },
    {
      "cell_type": "code",
      "source": [
        "sns.heatmap(df.corr())"
      ],
      "metadata": {
        "id": "UCVrekh58WB0",
        "colab": {
          "base_uri": "https://localhost:8080/",
          "height": 331
        },
        "outputId": "d77b8a08-0457-492e-fdee-d9336edde1f1"
      },
      "execution_count": null,
      "outputs": [
        {
          "output_type": "execute_result",
          "data": {
            "text/plain": [
              "<matplotlib.axes._subplots.AxesSubplot at 0x7fcc86aa9550>"
            ]
          },
          "metadata": {},
          "execution_count": 64
        },
        {
          "output_type": "display_data",
          "data": {
            "text/plain": [
              "<Figure size 432x288 with 2 Axes>"
            ],
            "image/png": "[encoded data removed]"
          },
          "metadata": {
            "needs_background": "light"
          }
        }
      ]
    },
    {
      "cell_type": "markdown",
      "source": [
        "**3.JOINT PLOT**"
      ],
      "metadata": {
        "id": "0Fq0ZDRdWzRo"
      }
    },
    {
      "cell_type": "code",
      "source": [
        "sns.jointplot(x='age',y='cardio',data=df)"
      ],
      "metadata": {
        "id": "hNpDhDw6W3h_",
        "colab": {
          "base_uri": "https://localhost:8080/",
          "height": 458
        },
        "outputId": "c701efcf-cb10-45d0-c5e6-c5405ba4212f"
      },
      "execution_count": null,
      "outputs": [
        {
          "output_type": "execute_result",
          "data": {
            "text/plain": [
              "<seaborn.axisgrid.JointGrid at 0x7fcc868e8d00>"
            ]
          },
          "metadata": {},
          "execution_count": 65
        },
        {
          "output_type": "display_data",
          "data": {
            "text/plain": [
              "<Figure size 432x432 with 3 Axes>"
            ],
            "image/png": "[encoded data removed]"
          },
          "metadata": {
            "needs_background": "light"
          }
        }
      ]
    },
    {
      "cell_type": "code",
      "source": [
        "sns.jointplot(x='age',y='cholesterol',data=df)"
      ],
      "metadata": {
        "id": "GQdaQMK8Xl8F",
        "colab": {
          "base_uri": "https://localhost:8080/",
          "height": 458
        },
        "outputId": "62f17203-b602-4b39-8910-40efda9b2067"
      },
      "execution_count": null,
      "outputs": [
        {
          "output_type": "execute_result",
          "data": {
            "text/plain": [
              "<seaborn.axisgrid.JointGrid at 0x7fcc86a2f790>"
            ]
          },
          "metadata": {},
          "execution_count": 66
        },
        {
          "output_type": "display_data",
          "data": {
            "text/plain": [
              "<Figure size 432x432 with 3 Axes>"
            ],
            "image/png": "[encoded data removed]"
          },
          "metadata": {
            "needs_background": "light"
          }
        }
      ]
    },
    {
      "cell_type": "markdown",
      "source": [
        "**SPLIT THE DATASET INTO FEATURES AND LABELS**"
      ],
      "metadata": {
        "id": "Mw4hmX7INkS3"
      }
    },
    {
      "cell_type": "code",
      "source": [
        "X=df.drop(columns=['cardio'])\n",
        "y=df['cardio']"
      ],
      "metadata": {
        "id": "VCRdpVgT_ZIk"
      },
      "execution_count": null,
      "outputs": []
    },
    {
      "cell_type": "markdown",
      "source": [
        "**DIVIDATION OF TRAINING AND TESTING DATA**"
      ],
      "metadata": {
        "id": "YNI-sKITU-gN"
      }
    },
    {
      "cell_type": "code",
      "source": [
        "X_train,X_test,y_train,y_test=train_test_split(X,y,test_size=0.3,random_state=1)\n",
        "X_train\n",
        "X_test\n",
        "y_train\n",
        "y_test"
      ],
      "metadata": {
        "id": "3F1LULxmRmlC",
        "colab": {
          "base_uri": "https://localhost:8080/"
        },
        "outputId": "0b2410bb-5d3b-4d3c-b9fc-c8f70b05e5b1"
      },
      "execution_count": null,
      "outputs": [
        {
          "output_type": "execute_result",
          "data": {
            "text/plain": [
              "15300    0\n",
              "42241    0\n",
              "24011    1\n",
              "29193    0\n",
              "6309     1\n",
              "        ..\n",
              "29608    1\n",
              "27731    1\n",
              "31616    0\n",
              "42117    0\n",
              "20372    1\n",
              "Name: cardio, Length: 13738, dtype: int64"
            ]
          },
          "metadata": {},
          "execution_count": 68
        }
      ]
    },
    {
      "cell_type": "code",
      "source": [
        "sc=StandardScaler()\n",
        "X_train_new=sc.fit_transform(X_train)\n",
        "X_test_new=sc.transform(X_test)\n",
        "X_train_new\n",
        "X_test_new"
      ],
      "metadata": {
        "id": "d-mgKJWFAnUe",
        "colab": {
          "base_uri": "https://localhost:8080/"
        },
        "outputId": "b5d21500-4c6f-4c24-a7d0-632eb433e6cd"
      },
      "execution_count": null,
      "outputs": [
        {
          "output_type": "execute_result",
          "data": {
            "text/plain": [
              "array([[-0.40082431, -0.73015264, -0.04349845, ..., -0.31193699,\n",
              "        -0.23564372,  0.49678623],\n",
              "       [-1.06680447,  1.36957664, -0.04349845, ..., -0.31193699,\n",
              "         4.24396113, -2.01306424],\n",
              "       [ 0.97038272, -0.73015264, -2.21968716, ..., -0.31193699,\n",
              "        -0.23564372,  0.49678623],\n",
              "       ...,\n",
              "       [ 0.07944207, -0.73015264,  0.92369653, ..., -0.31193699,\n",
              "        -0.23564372,  0.49678623],\n",
              "       [ 0.44682359, -0.73015264, -2.09878779, ..., -0.31193699,\n",
              "        -0.23564372,  0.49678623],\n",
              "       [ 0.94489259, -0.73015264,  0.44009904, ..., -0.31193699,\n",
              "        -0.23564372, -2.01306424]])"
            ]
          },
          "metadata": {},
          "execution_count": 69
        }
      ]
    },
    {
      "cell_type": "markdown",
      "source": [
        "**CREATING DIFFERENT MODELS USING IMBALANCED DATASET**"
      ],
      "metadata": {
        "id": "DtFp8vese6Q6"
      }
    },
    {
      "cell_type": "markdown",
      "source": [
        "**1.KNN ALGORITHM**"
      ],
      "metadata": {
        "id": "upsaSP3fhLHa"
      }
    },
    {
      "cell_type": "code",
      "source": [
        "knn=KNeighborsClassifier()\n",
        "knn.fit(X_train_new,y_train)\n",
        "y_pred_knn=knn.predict(X_test_new)\n",
        "y_pred_knn"
      ],
      "metadata": {
        "id": "wy8do2Q6BilC",
        "colab": {
          "base_uri": "https://localhost:8080/"
        },
        "outputId": "4f9a0651-084b-4fe4-bd99-0ebbee891bcc"
      },
      "execution_count": null,
      "outputs": [
        {
          "output_type": "execute_result",
          "data": {
            "text/plain": [
              "array([0, 1, 1, ..., 0, 0, 1])"
            ]
          },
          "metadata": {},
          "execution_count": 70
        }
      ]
    },
    {
      "cell_type": "code",
      "source": [
        "print(accuracy_score(y_test,y_pred_knn))\n",
        "print(classification_report(y_test,y_pred_knn))\n",
        "print(ConfusionMatrixDisplay.from_predictions(y_test,y_pred_knn)) "
      ],
      "metadata": {
        "id": "bRgRM3kjGchB",
        "colab": {
          "base_uri": "https://localhost:8080/",
          "height": 470
        },
        "outputId": "85d551fe-1277-461f-8fcc-b9bf5e96b7b5"
      },
      "execution_count": null,
      "outputs": [
        {
          "output_type": "stream",
          "name": "stdout",
          "text": [
            "0.655772310379968\n",
            "              precision    recall  f1-score   support\n",
            "\n",
            "           0       0.65      0.68      0.66      6870\n",
            "           1       0.66      0.63      0.65      6868\n",
            "\n",
            "    accuracy                           0.66     13738\n",
            "   macro avg       0.66      0.66      0.66     13738\n",
            "weighted avg       0.66      0.66      0.66     13738\n",
            "\n",
            "<sklearn.metrics._plot.confusion_matrix.ConfusionMatrixDisplay object at 0x7fcc86b0fcd0>\n"
          ]
        },
        {
          "output_type": "display_data",
          "data": {
            "text/plain": [
              "<Figure size 432x288 with 2 Axes>"
            ],
            "image/png": "[encoded data removed]"
          },
          "metadata": {
            "needs_background": "light"
          }
        }
      ]
    },
    {
      "cell_type": "markdown",
      "source": [
        "**2.SUPPORT VECTOR MACHINE ALGORITHM**"
      ],
      "metadata": {
        "id": "4pwK3saHjZoD"
      }
    },
    {
      "cell_type": "code",
      "source": [
        "sc=SVC()\n",
        "sc.fit(X_train_new,y_train)\n",
        "y_pred_svm=sc.predict(X_test_new)\n",
        "y_pred_svm"
      ],
      "metadata": {
        "id": "mv9YN3iIhKH-",
        "colab": {
          "base_uri": "https://localhost:8080/"
        },
        "outputId": "b2e9ea9c-e728-46ac-8e5d-722fea92ccb5"
      },
      "execution_count": null,
      "outputs": [
        {
          "output_type": "execute_result",
          "data": {
            "text/plain": [
              "array([0, 0, 1, ..., 0, 0, 1])"
            ]
          },
          "metadata": {},
          "execution_count": 72
        }
      ]
    },
    {
      "cell_type": "code",
      "source": [
        "print(accuracy_score(y_test,y_pred_svm))\n",
        "print(classification_report(y_test,y_pred_svm))\n",
        "print(ConfusionMatrixDisplay.from_predictions(y_test,y_pred_svm))"
      ],
      "metadata": {
        "id": "RADrnwoPiz67",
        "colab": {
          "base_uri": "https://localhost:8080/",
          "height": 470
        },
        "outputId": "76d64a38-fc27-4c43-c2e7-7b6f40801c9a"
      },
      "execution_count": null,
      "outputs": [
        {
          "output_type": "stream",
          "name": "stdout",
          "text": [
            "0.7241228708691222\n",
            "              precision    recall  f1-score   support\n",
            "\n",
            "           0       0.71      0.77      0.74      6870\n",
            "           1       0.74      0.68      0.71      6868\n",
            "\n",
            "    accuracy                           0.72     13738\n",
            "   macro avg       0.73      0.72      0.72     13738\n",
            "weighted avg       0.73      0.72      0.72     13738\n",
            "\n",
            "<sklearn.metrics._plot.confusion_matrix.ConfusionMatrixDisplay object at 0x7fcc8714c700>\n"
          ]
        },
        {
          "output_type": "display_data",
          "data": {
            "text/plain": [
              "<Figure size 432x288 with 2 Axes>"
            ],
            "image/png": "[encoded data removed]"
          },
          "metadata": {
            "needs_background": "light"
          }
        }
      ]
    },
    {
      "cell_type": "markdown",
      "source": [
        "**3.DECISION TREE ALGORITHM USING GINI CRITERION**"
      ],
      "metadata": {
        "id": "0fcC_WHnjpvt"
      }
    },
    {
      "cell_type": "code",
      "source": [
        "dtc=DecisionTreeClassifier()\n",
        "dtc.fit(X_train_new,y_train)\n",
        "y_pred_dc=dtc.predict(X_test_new)\n",
        "y_pred_dc"
      ],
      "metadata": {
        "id": "WPrwZ6eH2ukb",
        "colab": {
          "base_uri": "https://localhost:8080/"
        },
        "outputId": "2955e19c-b3e7-4f94-cbbb-5b1c74bd2833"
      },
      "execution_count": null,
      "outputs": [
        {
          "output_type": "execute_result",
          "data": {
            "text/plain": [
              "array([0, 0, 1, ..., 0, 0, 1])"
            ]
          },
          "metadata": {},
          "execution_count": 74
        }
      ]
    },
    {
      "cell_type": "code",
      "source": [
        "print(accuracy_score(y_test,y_pred_dc))\n",
        "print(classification_report(y_test,y_pred_dc))\n",
        "print(ConfusionMatrixDisplay.from_predictions(y_test,y_pred_dc))"
      ],
      "metadata": {
        "id": "1jDDRvms4vWc",
        "colab": {
          "base_uri": "https://localhost:8080/",
          "height": 470
        },
        "outputId": "10ab4c63-11a0-4ea1-9ed5-a5473fe05da8"
      },
      "execution_count": null,
      "outputs": [
        {
          "output_type": "stream",
          "name": "stdout",
          "text": [
            "0.637792982966953\n",
            "              precision    recall  f1-score   support\n",
            "\n",
            "           0       0.64      0.64      0.64      6870\n",
            "           1       0.64      0.64      0.64      6868\n",
            "\n",
            "    accuracy                           0.64     13738\n",
            "   macro avg       0.64      0.64      0.64     13738\n",
            "weighted avg       0.64      0.64      0.64     13738\n",
            "\n",
            "<sklearn.metrics._plot.confusion_matrix.ConfusionMatrixDisplay object at 0x7fcc86e32130>\n"
          ]
        },
        {
          "output_type": "display_data",
          "data": {
            "text/plain": [
              "<Figure size 432x288 with 2 Axes>"
            ],
            "image/png": "[encoded data removed]"
          },
          "metadata": {
            "needs_background": "light"
          }
        }
      ]
    },
    {
      "cell_type": "markdown",
      "source": [
        "**4.NAIVE BAYES ALGORITHM**"
      ],
      "metadata": {
        "id": "iyKFrVOujCgN"
      }
    },
    {
      "cell_type": "code",
      "source": [
        "ga=GaussianNB()\n",
        "ga.fit(X_train_new,y_train)\n",
        "y_pred_gnb=ga.predict(X_test_new)\n",
        "y_pred_gnb"
      ],
      "metadata": {
        "id": "mtuU1t7H47A-",
        "colab": {
          "base_uri": "https://localhost:8080/"
        },
        "outputId": "2e2bf047-b253-426c-836e-c0788e4dd369"
      },
      "execution_count": null,
      "outputs": [
        {
          "output_type": "execute_result",
          "data": {
            "text/plain": [
              "array([0, 0, 1, ..., 0, 0, 0])"
            ]
          },
          "metadata": {},
          "execution_count": 76
        }
      ]
    },
    {
      "cell_type": "code",
      "source": [
        "print(accuracy_score(y_test,y_pred_gnb))\n",
        "print(classification_report(y_test,y_pred_gnb))\n",
        "print(ConfusionMatrixDisplay.from_predictions(y_test,y_pred_gnb))"
      ],
      "metadata": {
        "id": "8rxeghQq9HMh",
        "colab": {
          "base_uri": "https://localhost:8080/",
          "height": 470
        },
        "outputId": "de77abe7-1185-4ab0-a973-6f543de37660"
      },
      "execution_count": null,
      "outputs": [
        {
          "output_type": "stream",
          "name": "stdout",
          "text": [
            "0.586912214296113\n",
            "              precision    recall  f1-score   support\n",
            "\n",
            "           0       0.55      0.92      0.69      6870\n",
            "           1       0.76      0.25      0.38      6868\n",
            "\n",
            "    accuracy                           0.59     13738\n",
            "   macro avg       0.66      0.59      0.53     13738\n",
            "weighted avg       0.66      0.59      0.53     13738\n",
            "\n",
            "<sklearn.metrics._plot.confusion_matrix.ConfusionMatrixDisplay object at 0x7fcc86e7cdf0>\n"
          ]
        },
        {
          "output_type": "display_data",
          "data": {
            "text/plain": [
              "<Figure size 432x288 with 2 Axes>"
            ],
            "image/png": "[encoded data removed]"
          },
          "metadata": {
            "needs_background": "light"
          }
        }
      ]
    },
    {
      "cell_type": "markdown",
      "source": [
        "**5.RANDOM FOREST ALGORITHM**"
      ],
      "metadata": {
        "id": "hjmwmqpplK-m"
      }
    },
    {
      "cell_type": "code",
      "source": [
        "rf=RandomForestClassifier()\n",
        "rf.fit(X_train_new,y_train)\n",
        "y_pred_rfc=rf.predict(X_test_new)\n",
        "y_pred_rfc"
      ],
      "metadata": {
        "id": "9i1NiqrH9TSC",
        "colab": {
          "base_uri": "https://localhost:8080/"
        },
        "outputId": "f54abb0b-f184-4305-f150-27bd7eccbd7c"
      },
      "execution_count": null,
      "outputs": [
        {
          "output_type": "execute_result",
          "data": {
            "text/plain": [
              "array([0, 0, 1, ..., 0, 0, 1])"
            ]
          },
          "metadata": {},
          "execution_count": 78
        }
      ]
    },
    {
      "cell_type": "code",
      "source": [
        "print(accuracy_score(y_test,y_pred_rfc))\n",
        "print(classification_report(y_test,y_pred_rfc))\n",
        "print(ConfusionMatrixDisplay.from_predictions(y_test,y_pred_rfc))"
      ],
      "metadata": {
        "id": "CjW9t9nmAeeN",
        "colab": {
          "base_uri": "https://localhost:8080/",
          "height": 470
        },
        "outputId": "6e801eb8-bf70-42a1-8727-07a804c13d44"
      },
      "execution_count": null,
      "outputs": [
        {
          "output_type": "stream",
          "name": "stdout",
          "text": [
            "0.7193186781190858\n",
            "              precision    recall  f1-score   support\n",
            "\n",
            "           0       0.71      0.74      0.72      6870\n",
            "           1       0.73      0.70      0.71      6868\n",
            "\n",
            "    accuracy                           0.72     13738\n",
            "   macro avg       0.72      0.72      0.72     13738\n",
            "weighted avg       0.72      0.72      0.72     13738\n",
            "\n",
            "<sklearn.metrics._plot.confusion_matrix.ConfusionMatrixDisplay object at 0x7fcc86a3feb0>\n"
          ]
        },
        {
          "output_type": "display_data",
          "data": {
            "text/plain": [
              "<Figure size 432x288 with 2 Axes>"
            ],
            "image/png": "[encoded data removed]"
          },
          "metadata": {
            "needs_background": "light"
          }
        }
      ]
    },
    {
      "cell_type": "markdown",
      "source": [
        "**6.LOGISTIC REGRESSION**"
      ],
      "metadata": {
        "id": "VPGtlUADpM-6"
      }
    },
    {
      "cell_type": "code",
      "source": [
        "lr=LogisticRegression(random_state=0)\n",
        "lr.fit(X_train_new,y_train)\n",
        "y_pred_lgr=lr.predict(X_test_new)\n",
        "y_pred_lgr"
      ],
      "metadata": {
        "id": "I0mBhEQGoHQA",
        "colab": {
          "base_uri": "https://localhost:8080/"
        },
        "outputId": "9c5a97d0-076a-4f5d-e746-807ac06d4939"
      },
      "execution_count": null,
      "outputs": [
        {
          "output_type": "execute_result",
          "data": {
            "text/plain": [
              "array([0, 0, 1, ..., 0, 0, 1])"
            ]
          },
          "metadata": {},
          "execution_count": 80
        }
      ]
    },
    {
      "cell_type": "code",
      "source": [
        "print(accuracy_score(y_test,y_pred_lgr)) \n",
        "print(classification_report(y_test,y_pred_lgr))\n",
        "print(ConfusionMatrixDisplay.from_predictions(y_test,y_pred_lgr)) "
      ],
      "metadata": {
        "id": "QA0haK2mqlME",
        "colab": {
          "base_uri": "https://localhost:8080/",
          "height": 470
        },
        "outputId": "1652cd95-8336-4652-a762-1cb6f94acf3b"
      },
      "execution_count": null,
      "outputs": [
        {
          "output_type": "stream",
          "name": "stdout",
          "text": [
            "0.7248507788615519\n",
            "              precision    recall  f1-score   support\n",
            "\n",
            "           0       0.70      0.78      0.74      6870\n",
            "           1       0.75      0.67      0.71      6868\n",
            "\n",
            "    accuracy                           0.72     13738\n",
            "   macro avg       0.73      0.72      0.72     13738\n",
            "weighted avg       0.73      0.72      0.72     13738\n",
            "\n",
            "<sklearn.metrics._plot.confusion_matrix.ConfusionMatrixDisplay object at 0x7fcc8675b370>\n"
          ]
        },
        {
          "output_type": "display_data",
          "data": {
            "text/plain": [
              "<Figure size 432x288 with 2 Axes>"
            ],
            "image/png": "[encoded data removed]"
          },
          "metadata": {
            "needs_background": "light"
          }
        }
      ]
    },
    {
      "cell_type": "markdown",
      "source": [
        "**DIFFERENT ALGORITHMS ON BALANCED DATASET**"
      ],
      "metadata": {
        "id": "RgkjX-aIkH-L"
      }
    },
    {
      "cell_type": "markdown",
      "source": [
        "*Balanced the data by oversampling technique using SMOTE(Synthetic Minority Oversampling Technique)*"
      ],
      "metadata": {
        "id": "ffDh2ZuykW7i"
      }
    },
    {
      "cell_type": "code",
      "source": [
        "os=SMOTE()\n",
        "Xo,yo=os.fit_resample(X,y)\n",
        "Xo_train,Xo_test,yo_train,yo_test=train_test_split(Xo,yo,test_size=0.3,random_state=1)"
      ],
      "metadata": {
        "id": "6QvRqCDXlJAB"
      },
      "execution_count": null,
      "outputs": []
    },
    {
      "cell_type": "code",
      "source": [
        "sc=StandardScaler()\n",
        "Xo_train_new=sc.fit_transform(Xo_train)\n",
        "Xo_test_new=sc.transform(Xo_test)\n",
        "Xo_train_new\n",
        "Xo_test_new"
      ],
      "metadata": {
        "id": "wV0kCszFt7aK",
        "colab": {
          "base_uri": "https://localhost:8080/"
        },
        "outputId": "d72ff6b1-fb14-487e-e5eb-f3ae337b9724"
      },
      "execution_count": null,
      "outputs": [
        {
          "output_type": "execute_result",
          "data": {
            "text/plain": [
              "array([[ 0.3488412 ,  1.3682939 ,  0.91616804, ...,  3.18941455,\n",
              "        -0.23792142,  0.4981442 ],\n",
              "       [-0.43858515, -0.73083714, -0.28900198, ..., -0.31370144,\n",
              "        -0.23792142,  0.4981442 ],\n",
              "       [-0.19645559, -0.73083714,  0.91616804, ..., -0.31370144,\n",
              "        -0.23792142, -2.00857535],\n",
              "       ...,\n",
              "       [-1.77615896, -0.73083714, -0.89158699, ..., -0.31370144,\n",
              "        -0.23792142,  0.4981442 ],\n",
              "       [ 1.16658427, -0.73083714, -1.73520601, ..., -0.31370144,\n",
              "        -0.23792142,  0.4981442 ],\n",
              "       [-2.0619446 ,  1.3682939 ,  0.55461704, ..., -0.31370144,\n",
              "        -0.23792142,  0.4981442 ]])"
            ]
          },
          "metadata": {},
          "execution_count": 83
        }
      ]
    },
    {
      "cell_type": "markdown",
      "source": [
        "**1.KNN ALGORITHM**"
      ],
      "metadata": {
        "id": "WN0JniRjtGrL"
      }
    },
    {
      "cell_type": "code",
      "source": [
        "knn=KNeighborsClassifier()\n",
        "knn.fit(Xo_train_new,yo_train)\n",
        "y_pred_knn_os=knn.predict(Xo_test_new)\n",
        "y_pred_knn_os"
      ],
      "metadata": {
        "id": "u1D_l8Rer2iM",
        "colab": {
          "base_uri": "https://localhost:8080/"
        },
        "outputId": "68e5d78f-b409-4325-b484-02e35a14a0b9"
      },
      "execution_count": null,
      "outputs": [
        {
          "output_type": "execute_result",
          "data": {
            "text/plain": [
              "array([1, 0, 0, ..., 0, 1, 0])"
            ]
          },
          "metadata": {},
          "execution_count": 84
        }
      ]
    },
    {
      "cell_type": "code",
      "source": [
        "print(accuracy_score(yo_test,y_pred_knn_os))\n",
        "print(classification_report(yo_test,y_pred_knn_os))\n",
        "print(ConfusionMatrixDisplay.from_predictions(yo_test,y_pred_knn_os))"
      ],
      "metadata": {
        "id": "_CUsFxzFtwq3",
        "colab": {
          "base_uri": "https://localhost:8080/",
          "height": 470
        },
        "outputId": "f83ba230-3d09-423c-d80a-24951d9f1661"
      },
      "execution_count": null,
      "outputs": [
        {
          "output_type": "stream",
          "name": "stdout",
          "text": [
            "0.6537371976465461\n",
            "              precision    recall  f1-score   support\n",
            "\n",
            "           0       0.64      0.68      0.66      6850\n",
            "           1       0.67      0.63      0.64      6917\n",
            "\n",
            "    accuracy                           0.65     13767\n",
            "   macro avg       0.65      0.65      0.65     13767\n",
            "weighted avg       0.65      0.65      0.65     13767\n",
            "\n",
            "<sklearn.metrics._plot.confusion_matrix.ConfusionMatrixDisplay object at 0x7fcc86a6fbe0>\n"
          ]
        },
        {
          "output_type": "display_data",
          "data": {
            "text/plain": [
              "<Figure size 432x288 with 2 Axes>"
            ],
            "image/png": "[encoded data removed]"
          },
          "metadata": {
            "needs_background": "light"
          }
        }
      ]
    },
    {
      "cell_type": "markdown",
      "source": [
        "**2.SUPPORT VECTOR MACHINE ALGORITHM**"
      ],
      "metadata": {
        "id": "VxroiIRNJcSn"
      }
    },
    {
      "cell_type": "code",
      "source": [
        "sc=SVC()\n",
        "sc.fit(Xo_train_new,yo_train)\n",
        "y_pred_svm_os=sc.predict(Xo_test_new)\n",
        "y_pred_svm_os"
      ],
      "metadata": {
        "id": "GwllPmkJu_cg",
        "colab": {
          "base_uri": "https://localhost:8080/"
        },
        "outputId": "6eb9072e-2bb2-4f23-efd0-160f7cc38c89"
      },
      "execution_count": null,
      "outputs": [
        {
          "output_type": "execute_result",
          "data": {
            "text/plain": [
              "array([0, 0, 0, ..., 0, 1, 0])"
            ]
          },
          "metadata": {},
          "execution_count": 86
        }
      ]
    },
    {
      "cell_type": "code",
      "source": [
        "print(accuracy_score(yo_test,y_pred_svm_os))\n",
        "print(classification_report(yo_test,y_pred_svm_os))\n",
        "print(ConfusionMatrixDisplay.from_predictions(yo_test,y_pred_svm_os))"
      ],
      "metadata": {
        "id": "o_2bQvi9LOIV",
        "colab": {
          "base_uri": "https://localhost:8080/",
          "height": 470
        },
        "outputId": "5806e465-d1ae-423a-a45f-c8aca4d266be"
      },
      "execution_count": null,
      "outputs": [
        {
          "output_type": "stream",
          "name": "stdout",
          "text": [
            "0.7255030144548558\n",
            "              precision    recall  f1-score   support\n",
            "\n",
            "           0       0.71      0.77      0.74      6850\n",
            "           1       0.75      0.68      0.71      6917\n",
            "\n",
            "    accuracy                           0.73     13767\n",
            "   macro avg       0.73      0.73      0.73     13767\n",
            "weighted avg       0.73      0.73      0.73     13767\n",
            "\n",
            "<sklearn.metrics._plot.confusion_matrix.ConfusionMatrixDisplay object at 0x7fcc86662eb0>\n"
          ]
        },
        {
          "output_type": "display_data",
          "data": {
            "text/plain": [
              "<Figure size 432x288 with 2 Axes>"
            ],
            "image/png": "[encoded data removed]"
          },
          "metadata": {
            "needs_background": "light"
          }
        }
      ]
    },
    {
      "cell_type": "markdown",
      "source": [
        "**3.DECISION TREE ALGORITHM USING GINI CRITERION**"
      ],
      "metadata": {
        "id": "pHunN1eHMFSs"
      }
    },
    {
      "cell_type": "code",
      "source": [
        "dtc=DecisionTreeClassifier()\n",
        "dtc.fit(Xo_train_new,yo_train)\n",
        "y_pred_dc_os=dtc.predict(Xo_test_new)\n",
        "y_pred_dc_os"
      ],
      "metadata": {
        "id": "5kVGu3xjL5ri",
        "colab": {
          "base_uri": "https://localhost:8080/"
        },
        "outputId": "e0be8c0e-5d27-4924-f3c5-1baff315d9c3"
      },
      "execution_count": null,
      "outputs": [
        {
          "output_type": "execute_result",
          "data": {
            "text/plain": [
              "array([1, 1, 1, ..., 0, 1, 0])"
            ]
          },
          "metadata": {},
          "execution_count": 88
        }
      ]
    },
    {
      "cell_type": "code",
      "source": [
        "print(accuracy_score(yo_test,y_pred_dc_os))\n",
        "print(classification_report(yo_test,y_pred_dc_os))\n",
        "print(ConfusionMatrixDisplay.from_predictions(yo_test,y_pred_dc_os))"
      ],
      "metadata": {
        "id": "3PZ0vGjbMKic",
        "colab": {
          "base_uri": "https://localhost:8080/",
          "height": 470
        },
        "outputId": "bb1633c1-1de8-496e-f79d-ead871feb049"
      },
      "execution_count": null,
      "outputs": [
        {
          "output_type": "stream",
          "name": "stdout",
          "text": [
            "0.6320185951913997\n",
            "              precision    recall  f1-score   support\n",
            "\n",
            "           0       0.63      0.64      0.63      6850\n",
            "           1       0.64      0.63      0.63      6917\n",
            "\n",
            "    accuracy                           0.63     13767\n",
            "   macro avg       0.63      0.63      0.63     13767\n",
            "weighted avg       0.63      0.63      0.63     13767\n",
            "\n",
            "<sklearn.metrics._plot.confusion_matrix.ConfusionMatrixDisplay object at 0x7fcc86693e50>\n"
          ]
        },
        {
          "output_type": "display_data",
          "data": {
            "text/plain": [
              "<Figure size 432x288 with 2 Axes>"
            ],
            "image/png": "[encoded data removed]"
          },
          "metadata": {
            "needs_background": "light"
          }
        }
      ]
    },
    {
      "cell_type": "markdown",
      "source": [
        "**4.NAIVE BAYES ALGORITHM**"
      ],
      "metadata": {
        "id": "6nGSBv96Mdmn"
      }
    },
    {
      "cell_type": "code",
      "source": [
        "ga=GaussianNB()\n",
        "ga.fit(Xo_train_new,yo_train)\n",
        "y_pred_gnb_os=ga.predict(Xo_test_new)\n",
        "y_pred_gnb_os"
      ],
      "metadata": {
        "id": "76AIs-WrMOVB",
        "colab": {
          "base_uri": "https://localhost:8080/"
        },
        "outputId": "5f74f841-d8c6-4b23-f322-45cff5f57f1a"
      },
      "execution_count": null,
      "outputs": [
        {
          "output_type": "execute_result",
          "data": {
            "text/plain": [
              "array([0, 0, 0, ..., 0, 0, 0])"
            ]
          },
          "metadata": {},
          "execution_count": 90
        }
      ]
    },
    {
      "cell_type": "code",
      "source": [
        "print(accuracy_score(yo_test,y_pred_gnb_os))\n",
        "print(classification_report(yo_test,y_pred_gnb_os))\n",
        "print(ConfusionMatrixDisplay.from_predictions(yo_test,y_pred_gnb_os))"
      ],
      "metadata": {
        "id": "2LQHzFlwMiug",
        "colab": {
          "base_uri": "https://localhost:8080/",
          "height": 470
        },
        "outputId": "4578331e-9628-4cd1-c3a4-49a17e00ab69"
      },
      "execution_count": null,
      "outputs": [
        {
          "output_type": "stream",
          "name": "stdout",
          "text": [
            "0.5883634778818915\n",
            "              precision    recall  f1-score   support\n",
            "\n",
            "           0       0.55      0.92      0.69      6850\n",
            "           1       0.77      0.26      0.38      6917\n",
            "\n",
            "    accuracy                           0.59     13767\n",
            "   macro avg       0.66      0.59      0.54     13767\n",
            "weighted avg       0.66      0.59      0.54     13767\n",
            "\n",
            "<sklearn.metrics._plot.confusion_matrix.ConfusionMatrixDisplay object at 0x7fcc8665bdc0>\n"
          ]
        },
        {
          "output_type": "display_data",
          "data": {
            "text/plain": [
              "<Figure size 432x288 with 2 Axes>"
            ],
            "image/png": "[encoded data removed]"
          },
          "metadata": {
            "needs_background": "light"
          }
        }
      ]
    },
    {
      "cell_type": "markdown",
      "source": [
        "**5.RANDOM FOREST ALGORITHM**"
      ],
      "metadata": {
        "id": "5zrRXLmDMqIx"
      }
    },
    {
      "cell_type": "code",
      "source": [
        "rf=RandomForestClassifier()\n",
        "rf.fit(Xo_train_new,yo_train)\n",
        "y_pred_rfc_os=rf.predict(Xo_test_new)\n",
        "y_pred_rfc_os"
      ],
      "metadata": {
        "id": "d1pAu9UWMnSd",
        "colab": {
          "base_uri": "https://localhost:8080/"
        },
        "outputId": "b151356a-313e-4dc0-f80a-8fde6cb65542"
      },
      "execution_count": null,
      "outputs": [
        {
          "output_type": "execute_result",
          "data": {
            "text/plain": [
              "array([0, 0, 0, ..., 0, 1, 0])"
            ]
          },
          "metadata": {},
          "execution_count": 92
        }
      ]
    },
    {
      "cell_type": "code",
      "source": [
        "print(accuracy_score(yo_test,y_pred_rfc_os))\n",
        "print(classification_report(yo_test,y_pred_rfc_os))\n",
        "print(ConfusionMatrixDisplay.from_predictions(yo_test,y_pred_rfc_os))"
      ],
      "metadata": {
        "id": "nlvuj7IvM60c",
        "colab": {
          "base_uri": "https://localhost:8080/",
          "height": 470
        },
        "outputId": "56481799-c226-4c1c-b2a3-cf293fa6ad2b"
      },
      "execution_count": null,
      "outputs": [
        {
          "output_type": "stream",
          "name": "stdout",
          "text": [
            "0.7190382799447955\n",
            "              precision    recall  f1-score   support\n",
            "\n",
            "           0       0.71      0.74      0.72      6850\n",
            "           1       0.73      0.70      0.71      6917\n",
            "\n",
            "    accuracy                           0.72     13767\n",
            "   macro avg       0.72      0.72      0.72     13767\n",
            "weighted avg       0.72      0.72      0.72     13767\n",
            "\n",
            "<sklearn.metrics._plot.confusion_matrix.ConfusionMatrixDisplay object at 0x7fcc86cdb040>\n"
          ]
        },
        {
          "output_type": "display_data",
          "data": {
            "text/plain": [
              "<Figure size 432x288 with 2 Axes>"
            ],
            "image/png": "[encoded data removed]"
          },
          "metadata": {
            "needs_background": "light"
          }
        }
      ]
    },
    {
      "cell_type": "markdown",
      "source": [
        "**6.LOGISTIC REGRESSION**"
      ],
      "metadata": {
        "id": "XuKtCECsNHBR"
      }
    },
    {
      "cell_type": "code",
      "source": [
        "lr=LogisticRegression(random_state=0)\n",
        "lr.fit(Xo_train_new,yo_train)\n",
        "y_pred_lgr_os=lr.predict(Xo_test_new)\n",
        "y_pred_lgr_os"
      ],
      "metadata": {
        "id": "S9fGBDR7M_xL",
        "colab": {
          "base_uri": "https://localhost:8080/"
        },
        "outputId": "34d5af64-b821-41f0-e94f-6016490bdee8"
      },
      "execution_count": null,
      "outputs": [
        {
          "output_type": "execute_result",
          "data": {
            "text/plain": [
              "array([0, 0, 0, ..., 0, 1, 0])"
            ]
          },
          "metadata": {},
          "execution_count": 94
        }
      ]
    },
    {
      "cell_type": "code",
      "source": [
        "print(accuracy_score(yo_test,y_pred_lgr_os))\n",
        "print(classification_report(yo_test,y_pred_lgr_os))\n",
        "print(ConfusionMatrixDisplay.from_predictions(yo_test,y_pred_lgr_os))"
      ],
      "metadata": {
        "id": "AH001_zsNeuV",
        "colab": {
          "base_uri": "https://localhost:8080/",
          "height": 470
        },
        "outputId": "7525960f-54a5-45ca-da95-c9a4960a9bc5"
      },
      "execution_count": null,
      "outputs": [
        {
          "output_type": "stream",
          "name": "stdout",
          "text": [
            "0.7273189511149851\n",
            "              precision    recall  f1-score   support\n",
            "\n",
            "           0       0.70      0.78      0.74      6850\n",
            "           1       0.76      0.67      0.71      6917\n",
            "\n",
            "    accuracy                           0.73     13767\n",
            "   macro avg       0.73      0.73      0.73     13767\n",
            "weighted avg       0.73      0.73      0.73     13767\n",
            "\n",
            "<sklearn.metrics._plot.confusion_matrix.ConfusionMatrixDisplay object at 0x7fcc86aea8e0>\n"
          ]
        },
        {
          "output_type": "display_data",
          "data": {
            "text/plain": [
              "<Figure size 432x288 with 2 Axes>"
            ],
            "image/png": "[encoded data removed]"
          },
          "metadata": {
            "needs_background": "light"
          }
        }
      ]
    },
    {
      "cell_type": "code",
      "source": [
        "acc=pd.DataFrame()\n",
        "acc['Classifier']=['KNN','SVM','DECISION TREE','NAIVE BAYES','RANDOM FOREST','LOGISTIC REGRESSION']\n",
        "acc['Accuracy of imbalanced data']=[accuracy_score(y_test,y_pred_knn),accuracy_score(y_test,y_pred_svm),accuracy_score(y_test,y_pred_dc),accuracy_score(y_test,y_pred_gnb),accuracy_score(y_test,y_pred_rfc),accuracy_score(y_test,y_pred_lgr)]\n",
        "acc['Accuracy of balanced data']=[accuracy_score(yo_test,y_pred_knn_os),accuracy_score(yo_test,y_pred_svm_os),accuracy_score(yo_test,y_pred_dc_os),accuracy_score(yo_test,y_pred_gnb_os),accuracy_score(yo_test,y_pred_rfc_os),accuracy_score(yo_test,y_pred_lgr_os)]\n",
        "acc"
      ],
      "metadata": {
        "id": "PrKfx0PXNrwb",
        "colab": {
          "base_uri": "https://localhost:8080/",
          "height": 237
        },
        "outputId": "3f640757-b51d-4386-f5c4-2ac2299e48fc"
      },
      "execution_count": null,
      "outputs": [
        {
          "output_type": "execute_result",
          "data": {
            "text/plain": [
              "            Classifier  Accuracy of imbalanced data  Accuracy of balanced data\n",
              "0                  KNN                     0.655772                   0.653737\n",
              "1                  SVM                     0.724123                   0.725503\n",
              "2        DECISION TREE                     0.637793                   0.632019\n",
              "3          NAIVE BAYES                     0.586912                   0.588363\n",
              "4        RANDOM FOREST                     0.719319                   0.719038\n",
              "5  LOGISTIC REGRESSION                     0.724851                   0.727319"
            ],
            "text/html": [
              "\n",
              "  <div id=\"df-47c68f5b-946e-45f9-9c15-73d361e9a67b\">\n",
              "    <div class=\"colab-df-container\">\n",
              "      <div>\n",
              "<style scoped>\n",
              "    .dataframe tbody tr th:only-of-type {\n",
              "        vertical-align: middle;\n",
              "    }\n",
              "\n",
              "    .dataframe tbody tr th {\n",
              "        vertical-align: top;\n",
              "    }\n",
              "\n",
              "    .dataframe thead th {\n",
              "        text-align: right;\n",
              "    }\n",
              "</style>\n",
              "<table border=\"1\" class=\"dataframe\">\n",
              "  <thead>\n",
              "    <tr style=\"text-align: right;\">\n",
              "      <th></th>\n",
              "      <th>Classifier</th>\n",
              "      <th>Accuracy of imbalanced data</th>\n",
              "      <th>Accuracy of balanced data</th>\n",
              "    </tr>\n",
              "  </thead>\n",
              "  <tbody>\n",
              "    <tr>\n",
              "      <th>0</th>\n",
              "      <td>KNN</td>\n",
              "      <td>0.655772</td>\n",
              "      <td>0.653737</td>\n",
              "    </tr>\n",
              "    <tr>\n",
              "      <th>1</th>\n",
              "      <td>SVM</td>\n",
              "      <td>0.724123</td>\n",
              "      <td>0.725503</td>\n",
              "    </tr>\n",
              "    <tr>\n",
              "      <th>2</th>\n",
              "      <td>DECISION TREE</td>\n",
              "      <td>0.637793</td>\n",
              "      <td>0.632019</td>\n",
              "    </tr>\n",
              "    <tr>\n",
              "      <th>3</th>\n",
              "      <td>NAIVE BAYES</td>\n",
              "      <td>0.586912</td>\n",
              "      <td>0.588363</td>\n",
              "    </tr>\n",
              "    <tr>\n",
              "      <th>4</th>\n",
              "      <td>RANDOM FOREST</td>\n",
              "      <td>0.719319</td>\n",
              "      <td>0.719038</td>\n",
              "    </tr>\n",
              "    <tr>\n",
              "      <th>5</th>\n",
              "      <td>LOGISTIC REGRESSION</td>\n",
              "      <td>0.724851</td>\n",
              "      <td>0.727319</td>\n",
              "    </tr>\n",
              "  </tbody>\n",
              "</table>\n",
              "</div>\n",
              "      <button class=\"colab-df-convert\" onclick=\"convertToInteractive('df-47c68f5b-946e-45f9-9c15-73d361e9a67b')\"\n",
              "              title=\"Convert this dataframe to an interactive table.\"\n",
              "              style=\"display:none;\">\n",
              "        \n",
              "  <svg xmlns=\"http://www.w3.org/2000/svg\" height=\"24px\"viewBox=\"0 0 24 24\"\n",
              "       width=\"24px\">\n",
              "    <path d=\"M0 0h24v24H0V0z\" fill=\"none\"/>\n",
              "    <path d=\"M18.56 5.44l.94 2.06.94-2.06 2.06-.94-2.06-.94-.94-2.06-.94 2.06-2.06.94zm-11 1L8.5 8.5l.94-2.06 2.06-.94-2.06-.94L8.5 2.5l-.94 2.06-2.06.94zm10 10l.94 2.06.94-2.06 2.06-.94-2.06-.94-.94-2.06-.94 2.06-2.06.94z\"/><path d=\"M17.41 7.96l-1.37-1.37c-.4-.4-.92-.59-1.43-.59-.52 0-1.04.2-1.43.59L10.3 9.45l-7.72 7.72c-.78.78-.78 2.05 0 2.83L4 21.41c.39.39.9.59 1.41.59.51 0 1.02-.2 1.41-.59l7.78-7.78 2.81-2.81c.8-.78.8-2.07 0-2.86zM5.41 20L4 18.59l7.72-7.72 1.47 1.35L5.41 20z\"/>\n",
              "  </svg>\n",
              "      </button>\n",
              "      \n",
              "  <style>\n",
              "    .colab-df-container {\n",
              "      display:flex;\n",
              "      flex-wrap:wrap;\n",
              "      gap: 12px;\n",
              "    }\n",
              "\n",
              "    .colab-df-convert {\n",
              "      background-color: #E8F0FE;\n",
              "      border: none;\n",
              "      border-radius: 50%;\n",
              "      cursor: pointer;\n",
              "      display: none;\n",
              "      fill: #1967D2;\n",
              "      height: 32px;\n",
              "      padding: 0 0 0 0;\n",
              "      width: 32px;\n",
              "    }\n",
              "\n",
              "    .colab-df-convert:hover {\n",
              "      background-color: #E2EBFA;\n",
              "      box-shadow: 0px 1px 2px rgba(60, 64, 67, 0.3), 0px 1px 3px 1px rgba(60, 64, 67, 0.15);\n",
              "      fill: #174EA6;\n",
              "    }\n",
              "\n",
              "    [theme=dark] .colab-df-convert {\n",
              "      background-color: #3B4455;\n",
              "      fill: #D2E3FC;\n",
              "    }\n",
              "\n",
              "    [theme=dark] .colab-df-convert:hover {\n",
              "      background-color: #434B5C;\n",
              "      box-shadow: 0px 1px 3px 1px rgba(0, 0, 0, 0.15);\n",
              "      filter: drop-shadow(0px 1px 2px rgba(0, 0, 0, 0.3));\n",
              "      fill: #FFFFFF;\n",
              "    }\n",
              "  </style>\n",
              "\n",
              "      <script>\n",
              "        const buttonEl =\n",
              "          document.querySelector('#df-47c68f5b-946e-45f9-9c15-73d361e9a67b button.colab-df-convert');\n",
              "        buttonEl.style.display =\n",
              "          google.colab.kernel.accessAllowed ? 'block' : 'none';\n",
              "\n",
              "        async function convertToInteractive(key) {\n",
              "          const element = document.querySelector('#df-47c68f5b-946e-45f9-9c15-73d361e9a67b');\n",
              "          const dataTable =\n",
              "            await google.colab.kernel.invokeFunction('convertToInteractive',\n",
              "                                                     [key], {});\n",
              "          if (!dataTable) return;\n",
              "\n",
              "          const docLinkHtml = 'Like what you see? Visit the ' +\n",
              "            '<a target=\"_blank\" href=https://colab.research.google.com/notebooks/data_table.ipynb>data table notebook</a>'\n",
              "            + ' to learn more about interactive tables.';\n",
              "          element.innerHTML = '';\n",
              "          dataTable['output_type'] = 'display_data';\n",
              "          await google.colab.output.renderOutput(dataTable, element);\n",
              "          const docLink = document.createElement('div');\n",
              "          docLink.innerHTML = docLinkHtml;\n",
              "          element.appendChild(docLink);\n",
              "        }\n",
              "      </script>\n",
              "    </div>\n",
              "  </div>\n",
              "  "
            ]
          },
          "metadata": {},
          "execution_count": 96
        }
      ]
    },
    {
      "cell_type": "markdown",
      "source": [
        "Model created with Support Vector Machine(SVM) using Balanced dataset gives highest accuracy about 73.02%"
      ],
      "metadata": {
        "id": "33yzCu6QhP_R"
      }
    }
  ]
}